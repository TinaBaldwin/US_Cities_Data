{
 "cells": [
  {
   "cell_type": "markdown",
   "metadata": {},
   "source": [
    "\n",
    "# Objective: Analyze cities in United States to determine where is optimal place to relocate. \n",
    "\n",
    "## Part 1: Cleans the data from [https://www.kaggle.com/datasets/louise2001/us-cities](https://www.kaggle.com/datasets/louise2001/us-cities).\n",
    "\n",
    "###  This data is sourced from someone else's data set on Kaggle."
   ]
  },
  {
   "cell_type": "markdown",
   "metadata": {},
   "source": [
    "### The following code cell uses Pandas to load the data US Cities Dataset. "
   ]
  },
  {
   "cell_type": "code",
   "execution_count": 1,
   "metadata": {},
   "outputs": [],
   "source": [
    "import pandas as pd\n",
    "us_cities = pd.read_csv('us_cities.csv')\n",
    "\n",
    "import matplotlib.pyplot as plt\n",
    "import numpy as np\n",
    "\n",
    "import seaborn as sns\n",
    "\n",
    "import plotly.express as px\n",
    "import plotly.graph_objects as go\n",
    "\n",
    "\n"
   ]
  },
  {
   "cell_type": "markdown",
   "metadata": {},
   "source": [
    "### Let's look at the first few rows of the dataset. "
   ]
  },
  {
   "cell_type": "code",
   "execution_count": 2,
   "metadata": {},
   "outputs": [
    {
     "data": {
      "text/html": [
       "<div>\n",
       "<style scoped>\n",
       "    .dataframe tbody tr th:only-of-type {\n",
       "        vertical-align: middle;\n",
       "    }\n",
       "\n",
       "    .dataframe tbody tr th {\n",
       "        vertical-align: top;\n",
       "    }\n",
       "\n",
       "    .dataframe thead th {\n",
       "        text-align: right;\n",
       "    }\n",
       "</style>\n",
       "<table border=\"1\" class=\"dataframe\">\n",
       "  <thead>\n",
       "    <tr style=\"text-align: right;\">\n",
       "      <th></th>\n",
       "      <th>Unnamed: 0</th>\n",
       "      <th>City</th>\n",
       "      <th>State</th>\n",
       "      <th>Region</th>\n",
       "      <th>Size</th>\n",
       "      <th>Population</th>\n",
       "      <th>AvgRent</th>\n",
       "      <th>MedianRent</th>\n",
       "      <th>UnempRate</th>\n",
       "      <th>AvgIncome</th>\n",
       "      <th>CostOfLiving</th>\n",
       "      <th>PriceParity</th>\n",
       "      <th>CommuteTime</th>\n",
       "      <th>MedianAQI</th>\n",
       "      <th>WalkScore</th>\n",
       "      <th>BikeScore</th>\n",
       "      <th>TransitScore</th>\n",
       "      <th>Latitude</th>\n",
       "      <th>Longitude</th>\n",
       "    </tr>\n",
       "  </thead>\n",
       "  <tbody>\n",
       "    <tr>\n",
       "      <th>0</th>\n",
       "      <td>0</td>\n",
       "      <td>New York</td>\n",
       "      <td>New York</td>\n",
       "      <td>Northeast</td>\n",
       "      <td>Large</td>\n",
       "      <td>20140470.0</td>\n",
       "      <td>3272</td>\n",
       "      <td>2323.0</td>\n",
       "      <td>3.8</td>\n",
       "      <td>85136.0</td>\n",
       "      <td>128.0</td>\n",
       "      <td>114.58</td>\n",
       "      <td>36.7</td>\n",
       "      <td>50.0</td>\n",
       "      <td>88.0</td>\n",
       "      <td>69.3</td>\n",
       "      <td>6.9</td>\n",
       "      <td>40.6943</td>\n",
       "      <td>-73.9249</td>\n",
       "    </tr>\n",
       "    <tr>\n",
       "      <th>1</th>\n",
       "      <td>1</td>\n",
       "      <td>Los Angeles</td>\n",
       "      <td>California</td>\n",
       "      <td>West</td>\n",
       "      <td>Large</td>\n",
       "      <td>13200998.0</td>\n",
       "      <td>2857</td>\n",
       "      <td>1925.0</td>\n",
       "      <td>3.9</td>\n",
       "      <td>75821.0</td>\n",
       "      <td>140.6</td>\n",
       "      <td>113.82</td>\n",
       "      <td>30.7</td>\n",
       "      <td>70.0</td>\n",
       "      <td>68.6</td>\n",
       "      <td>58.7</td>\n",
       "      <td>6.2</td>\n",
       "      <td>34.1141</td>\n",
       "      <td>-118.4068</td>\n",
       "    </tr>\n",
       "    <tr>\n",
       "      <th>2</th>\n",
       "      <td>2</td>\n",
       "      <td>Chicago</td>\n",
       "      <td>Illinois</td>\n",
       "      <td>Midwest</td>\n",
       "      <td>Large</td>\n",
       "      <td>9618502.0</td>\n",
       "      <td>1975</td>\n",
       "      <td>1364.0</td>\n",
       "      <td>4.2</td>\n",
       "      <td>71992.0</td>\n",
       "      <td>100.1</td>\n",
       "      <td>105.42</td>\n",
       "      <td>31.8</td>\n",
       "      <td>50.0</td>\n",
       "      <td>77.2</td>\n",
       "      <td>72.2</td>\n",
       "      <td>5.1</td>\n",
       "      <td>41.8375</td>\n",
       "      <td>-87.6866</td>\n",
       "    </tr>\n",
       "    <tr>\n",
       "      <th>3</th>\n",
       "      <td>3</td>\n",
       "      <td>Dallas</td>\n",
       "      <td>Texas</td>\n",
       "      <td>South</td>\n",
       "      <td>Large</td>\n",
       "      <td>7637387.0</td>\n",
       "      <td>1754</td>\n",
       "      <td>1440.0</td>\n",
       "      <td>3.2</td>\n",
       "      <td>66727.0</td>\n",
       "      <td>98.5</td>\n",
       "      <td>103.85</td>\n",
       "      <td>28.6</td>\n",
       "      <td>51.0</td>\n",
       "      <td>46.0</td>\n",
       "      <td>49.3</td>\n",
       "      <td>2.8</td>\n",
       "      <td>32.7935</td>\n",
       "      <td>-96.7667</td>\n",
       "    </tr>\n",
       "    <tr>\n",
       "      <th>4</th>\n",
       "      <td>4</td>\n",
       "      <td>Houston</td>\n",
       "      <td>Texas</td>\n",
       "      <td>South</td>\n",
       "      <td>Large</td>\n",
       "      <td>7122240.0</td>\n",
       "      <td>1620</td>\n",
       "      <td>1216.0</td>\n",
       "      <td>3.9</td>\n",
       "      <td>64837.0</td>\n",
       "      <td>95.8</td>\n",
       "      <td>99.74</td>\n",
       "      <td>30.0</td>\n",
       "      <td>57.0</td>\n",
       "      <td>47.5</td>\n",
       "      <td>48.6</td>\n",
       "      <td>2.8</td>\n",
       "      <td>29.7860</td>\n",
       "      <td>-95.3885</td>\n",
       "    </tr>\n",
       "  </tbody>\n",
       "</table>\n",
       "</div>"
      ],
      "text/plain": [
       "   Unnamed: 0         City       State     Region   Size  Population  AvgRent  \\\n",
       "0           0     New York    New York  Northeast  Large  20140470.0     3272   \n",
       "1           1  Los Angeles  California       West  Large  13200998.0     2857   \n",
       "2           2      Chicago    Illinois    Midwest  Large   9618502.0     1975   \n",
       "3           3       Dallas       Texas      South  Large   7637387.0     1754   \n",
       "4           4      Houston       Texas      South  Large   7122240.0     1620   \n",
       "\n",
       "   MedianRent  UnempRate  AvgIncome  CostOfLiving  PriceParity  CommuteTime  \\\n",
       "0      2323.0        3.8    85136.0         128.0       114.58         36.7   \n",
       "1      1925.0        3.9    75821.0         140.6       113.82         30.7   \n",
       "2      1364.0        4.2    71992.0         100.1       105.42         31.8   \n",
       "3      1440.0        3.2    66727.0          98.5       103.85         28.6   \n",
       "4      1216.0        3.9    64837.0          95.8        99.74         30.0   \n",
       "\n",
       "   MedianAQI  WalkScore  BikeScore  TransitScore  Latitude  Longitude  \n",
       "0       50.0       88.0       69.3           6.9   40.6943   -73.9249  \n",
       "1       70.0       68.6       58.7           6.2   34.1141  -118.4068  \n",
       "2       50.0       77.2       72.2           5.1   41.8375   -87.6866  \n",
       "3       51.0       46.0       49.3           2.8   32.7935   -96.7667  \n",
       "4       57.0       47.5       48.6           2.8   29.7860   -95.3885  "
      ]
     },
     "execution_count": 2,
     "metadata": {},
     "output_type": "execute_result"
    }
   ],
   "source": [
    "us_cities.head()"
   ]
  },
  {
   "cell_type": "markdown",
   "metadata": {},
   "source": [
    "### Let's look at the last few rows of the dataset. "
   ]
  },
  {
   "cell_type": "code",
   "execution_count": 3,
   "metadata": {},
   "outputs": [
    {
     "data": {
      "text/html": [
       "<div>\n",
       "<style scoped>\n",
       "    .dataframe tbody tr th:only-of-type {\n",
       "        vertical-align: middle;\n",
       "    }\n",
       "\n",
       "    .dataframe tbody tr th {\n",
       "        vertical-align: top;\n",
       "    }\n",
       "\n",
       "    .dataframe thead th {\n",
       "        text-align: right;\n",
       "    }\n",
       "</style>\n",
       "<table border=\"1\" class=\"dataframe\">\n",
       "  <thead>\n",
       "    <tr style=\"text-align: right;\">\n",
       "      <th></th>\n",
       "      <th>Unnamed: 0</th>\n",
       "      <th>City</th>\n",
       "      <th>State</th>\n",
       "      <th>Region</th>\n",
       "      <th>Size</th>\n",
       "      <th>Population</th>\n",
       "      <th>AvgRent</th>\n",
       "      <th>MedianRent</th>\n",
       "      <th>UnempRate</th>\n",
       "      <th>AvgIncome</th>\n",
       "      <th>CostOfLiving</th>\n",
       "      <th>PriceParity</th>\n",
       "      <th>CommuteTime</th>\n",
       "      <th>MedianAQI</th>\n",
       "      <th>WalkScore</th>\n",
       "      <th>BikeScore</th>\n",
       "      <th>TransitScore</th>\n",
       "      <th>Latitude</th>\n",
       "      <th>Longitude</th>\n",
       "    </tr>\n",
       "  </thead>\n",
       "  <tbody>\n",
       "    <tr>\n",
       "      <th>339</th>\n",
       "      <td>339</td>\n",
       "      <td>Grand Island</td>\n",
       "      <td>Nebraska</td>\n",
       "      <td>Midwest</td>\n",
       "      <td>Small</td>\n",
       "      <td>77038.0</td>\n",
       "      <td>860</td>\n",
       "      <td>NaN</td>\n",
       "      <td>2.4</td>\n",
       "      <td>52472.0</td>\n",
       "      <td>88.8</td>\n",
       "      <td>88.90</td>\n",
       "      <td>NaN</td>\n",
       "      <td>21.0</td>\n",
       "      <td>NaN</td>\n",
       "      <td>NaN</td>\n",
       "      <td>0.0</td>\n",
       "      <td>40.9218</td>\n",
       "      <td>-98.3586</td>\n",
       "    </tr>\n",
       "    <tr>\n",
       "      <th>340</th>\n",
       "      <td>340</td>\n",
       "      <td>Danville</td>\n",
       "      <td>Illinois</td>\n",
       "      <td>Midwest</td>\n",
       "      <td>Small</td>\n",
       "      <td>74188.0</td>\n",
       "      <td>657</td>\n",
       "      <td>705.0</td>\n",
       "      <td>4.8</td>\n",
       "      <td>49265.0</td>\n",
       "      <td>83.9</td>\n",
       "      <td>88.35</td>\n",
       "      <td>NaN</td>\n",
       "      <td>NaN</td>\n",
       "      <td>NaN</td>\n",
       "      <td>NaN</td>\n",
       "      <td>1.2</td>\n",
       "      <td>40.1426</td>\n",
       "      <td>-87.6111</td>\n",
       "    </tr>\n",
       "    <tr>\n",
       "      <th>341</th>\n",
       "      <td>341</td>\n",
       "      <td>Enid</td>\n",
       "      <td>Oklahoma</td>\n",
       "      <td>South</td>\n",
       "      <td>Small</td>\n",
       "      <td>62846.0</td>\n",
       "      <td>994</td>\n",
       "      <td>723.0</td>\n",
       "      <td>2.5</td>\n",
       "      <td>48861.0</td>\n",
       "      <td>82.9</td>\n",
       "      <td>NaN</td>\n",
       "      <td>NaN</td>\n",
       "      <td>NaN</td>\n",
       "      <td>NaN</td>\n",
       "      <td>NaN</td>\n",
       "      <td>0.0</td>\n",
       "      <td>36.4063</td>\n",
       "      <td>-97.8700</td>\n",
       "    </tr>\n",
       "    <tr>\n",
       "      <th>342</th>\n",
       "      <td>342</td>\n",
       "      <td>Walla Walla</td>\n",
       "      <td>Washington</td>\n",
       "      <td>West</td>\n",
       "      <td>Small</td>\n",
       "      <td>62584.0</td>\n",
       "      <td>1734</td>\n",
       "      <td>1018.0</td>\n",
       "      <td>4.9</td>\n",
       "      <td>53845.0</td>\n",
       "      <td>100.9</td>\n",
       "      <td>99.17</td>\n",
       "      <td>17.9</td>\n",
       "      <td>37.0</td>\n",
       "      <td>NaN</td>\n",
       "      <td>NaN</td>\n",
       "      <td>2.8</td>\n",
       "      <td>46.0671</td>\n",
       "      <td>-118.3368</td>\n",
       "    </tr>\n",
       "    <tr>\n",
       "      <th>343</th>\n",
       "      <td>343</td>\n",
       "      <td>Carson City</td>\n",
       "      <td>Nevada</td>\n",
       "      <td>West</td>\n",
       "      <td>Small</td>\n",
       "      <td>58639.0</td>\n",
       "      <td>1683</td>\n",
       "      <td>1043.0</td>\n",
       "      <td>3.9</td>\n",
       "      <td>60445.0</td>\n",
       "      <td>103.0</td>\n",
       "      <td>94.16</td>\n",
       "      <td>NaN</td>\n",
       "      <td>42.0</td>\n",
       "      <td>NaN</td>\n",
       "      <td>NaN</td>\n",
       "      <td>2.7</td>\n",
       "      <td>39.1511</td>\n",
       "      <td>-119.7476</td>\n",
       "    </tr>\n",
       "  </tbody>\n",
       "</table>\n",
       "</div>"
      ],
      "text/plain": [
       "     Unnamed: 0          City       State   Region   Size  Population  \\\n",
       "339         339  Grand Island    Nebraska  Midwest  Small     77038.0   \n",
       "340         340      Danville    Illinois  Midwest  Small     74188.0   \n",
       "341         341          Enid    Oklahoma    South  Small     62846.0   \n",
       "342         342   Walla Walla  Washington     West  Small     62584.0   \n",
       "343         343   Carson City      Nevada     West  Small     58639.0   \n",
       "\n",
       "     AvgRent  MedianRent  UnempRate  AvgIncome  CostOfLiving  PriceParity  \\\n",
       "339      860         NaN        2.4    52472.0          88.8        88.90   \n",
       "340      657       705.0        4.8    49265.0          83.9        88.35   \n",
       "341      994       723.0        2.5    48861.0          82.9          NaN   \n",
       "342     1734      1018.0        4.9    53845.0         100.9        99.17   \n",
       "343     1683      1043.0        3.9    60445.0         103.0        94.16   \n",
       "\n",
       "     CommuteTime  MedianAQI  WalkScore  BikeScore  TransitScore  Latitude  \\\n",
       "339          NaN       21.0        NaN        NaN           0.0   40.9218   \n",
       "340          NaN        NaN        NaN        NaN           1.2   40.1426   \n",
       "341          NaN        NaN        NaN        NaN           0.0   36.4063   \n",
       "342         17.9       37.0        NaN        NaN           2.8   46.0671   \n",
       "343          NaN       42.0        NaN        NaN           2.7   39.1511   \n",
       "\n",
       "     Longitude  \n",
       "339   -98.3586  \n",
       "340   -87.6111  \n",
       "341   -97.8700  \n",
       "342  -118.3368  \n",
       "343  -119.7476  "
      ]
     },
     "execution_count": 3,
     "metadata": {},
     "output_type": "execute_result"
    }
   ],
   "source": [
    "us_cities.tail()"
   ]
  },
  {
   "cell_type": "markdown",
   "metadata": {},
   "source": [
    "### Let's look at the shape of the dataset - how many row and columns does it have."
   ]
  },
  {
   "cell_type": "code",
   "execution_count": 4,
   "metadata": {},
   "outputs": [
    {
     "name": "stdout",
     "output_type": "stream",
     "text": [
      "The data set has 344 rows and 19 columns.\n"
     ]
    }
   ],
   "source": [
    "us_cities_shape = us_cities.shape\n",
    "print(f'The data set has {us_cities_shape[0]} rows and {us_cities_shape[1]} columns.')"
   ]
  },
  {
   "cell_type": "markdown",
   "metadata": {},
   "source": [
    "### Here is a summary of the dataset structure. "
   ]
  },
  {
   "cell_type": "code",
   "execution_count": 5,
   "metadata": {},
   "outputs": [
    {
     "name": "stdout",
     "output_type": "stream",
     "text": [
      "<class 'pandas.core.frame.DataFrame'>\n",
      "RangeIndex: 344 entries, 0 to 343\n",
      "Data columns (total 19 columns):\n",
      " #   Column        Non-Null Count  Dtype  \n",
      "---  ------        --------------  -----  \n",
      " 0   Unnamed: 0    344 non-null    int64  \n",
      " 1   City          344 non-null    object \n",
      " 2   State         344 non-null    object \n",
      " 3   Region        344 non-null    object \n",
      " 4   Size          344 non-null    object \n",
      " 5   Population    344 non-null    float64\n",
      " 6   AvgRent       344 non-null    int64  \n",
      " 7   MedianRent    338 non-null    float64\n",
      " 8   UnempRate     335 non-null    float64\n",
      " 9   AvgIncome     344 non-null    float64\n",
      " 10  CostOfLiving  335 non-null    float64\n",
      " 11  PriceParity   343 non-null    float64\n",
      " 12  CommuteTime   289 non-null    float64\n",
      " 13  MedianAQI     302 non-null    float64\n",
      " 14  WalkScore     74 non-null     float64\n",
      " 15  BikeScore     74 non-null     float64\n",
      " 16  TransitScore  344 non-null    float64\n",
      " 17  Latitude      344 non-null    float64\n",
      " 18  Longitude     344 non-null    float64\n",
      "dtypes: float64(13), int64(2), object(4)\n",
      "memory usage: 51.2+ KB\n"
     ]
    }
   ],
   "source": [
    "us_cities.info()"
   ]
  },
  {
   "cell_type": "markdown",
   "metadata": {},
   "source": [
    "### Let's view a statistical summary of the unaltered/uncleaned dataset. "
   ]
  },
  {
   "cell_type": "code",
   "execution_count": 6,
   "metadata": {},
   "outputs": [
    {
     "data": {
      "text/html": [
       "<div>\n",
       "<style scoped>\n",
       "    .dataframe tbody tr th:only-of-type {\n",
       "        vertical-align: middle;\n",
       "    }\n",
       "\n",
       "    .dataframe tbody tr th {\n",
       "        vertical-align: top;\n",
       "    }\n",
       "\n",
       "    .dataframe thead th {\n",
       "        text-align: right;\n",
       "    }\n",
       "</style>\n",
       "<table border=\"1\" class=\"dataframe\">\n",
       "  <thead>\n",
       "    <tr style=\"text-align: right;\">\n",
       "      <th></th>\n",
       "      <th>Unnamed: 0</th>\n",
       "      <th>Population</th>\n",
       "      <th>AvgRent</th>\n",
       "      <th>MedianRent</th>\n",
       "      <th>UnempRate</th>\n",
       "      <th>AvgIncome</th>\n",
       "      <th>CostOfLiving</th>\n",
       "      <th>PriceParity</th>\n",
       "      <th>CommuteTime</th>\n",
       "      <th>MedianAQI</th>\n",
       "      <th>WalkScore</th>\n",
       "      <th>BikeScore</th>\n",
       "      <th>TransitScore</th>\n",
       "      <th>Latitude</th>\n",
       "      <th>Longitude</th>\n",
       "    </tr>\n",
       "  </thead>\n",
       "  <tbody>\n",
       "    <tr>\n",
       "      <th>count</th>\n",
       "      <td>344.000000</td>\n",
       "      <td>3.440000e+02</td>\n",
       "      <td>344.000000</td>\n",
       "      <td>338.000000</td>\n",
       "      <td>335.000000</td>\n",
       "      <td>344.000000</td>\n",
       "      <td>335.000000</td>\n",
       "      <td>343.000000</td>\n",
       "      <td>289.000000</td>\n",
       "      <td>302.000000</td>\n",
       "      <td>74.000000</td>\n",
       "      <td>74.000000</td>\n",
       "      <td>344.000000</td>\n",
       "      <td>344.000000</td>\n",
       "      <td>344.000000</td>\n",
       "    </tr>\n",
       "    <tr>\n",
       "      <th>mean</th>\n",
       "      <td>171.500000</td>\n",
       "      <td>8.091447e+05</td>\n",
       "      <td>1493.375000</td>\n",
       "      <td>1044.568047</td>\n",
       "      <td>3.325373</td>\n",
       "      <td>57241.354651</td>\n",
       "      <td>97.086866</td>\n",
       "      <td>95.097201</td>\n",
       "      <td>23.273702</td>\n",
       "      <td>41.016556</td>\n",
       "      <td>48.402703</td>\n",
       "      <td>51.610811</td>\n",
       "      <td>2.191860</td>\n",
       "      <td>37.974277</td>\n",
       "      <td>-92.980435</td>\n",
       "    </tr>\n",
       "    <tr>\n",
       "      <th>std</th>\n",
       "      <td>99.448479</td>\n",
       "      <td>1.752598e+06</td>\n",
       "      <td>499.698727</td>\n",
       "      <td>352.917181</td>\n",
       "      <td>1.279893</td>\n",
       "      <td>12594.193756</td>\n",
       "      <td>13.083548</td>\n",
       "      <td>6.180207</td>\n",
       "      <td>3.837995</td>\n",
       "      <td>8.868721</td>\n",
       "      <td>15.904699</td>\n",
       "      <td>12.466191</td>\n",
       "      <td>1.431178</td>\n",
       "      <td>5.539083</td>\n",
       "      <td>15.822677</td>\n",
       "    </tr>\n",
       "    <tr>\n",
       "      <th>min</th>\n",
       "      <td>0.000000</td>\n",
       "      <td>5.863900e+04</td>\n",
       "      <td>657.000000</td>\n",
       "      <td>648.000000</td>\n",
       "      <td>1.600000</td>\n",
       "      <td>34503.000000</td>\n",
       "      <td>82.600000</td>\n",
       "      <td>85.480000</td>\n",
       "      <td>15.700000</td>\n",
       "      <td>10.000000</td>\n",
       "      <td>21.400000</td>\n",
       "      <td>29.700000</td>\n",
       "      <td>0.000000</td>\n",
       "      <td>21.329400</td>\n",
       "      <td>-157.846000</td>\n",
       "    </tr>\n",
       "    <tr>\n",
       "      <th>25%</th>\n",
       "      <td>85.750000</td>\n",
       "      <td>1.556702e+05</td>\n",
       "      <td>1160.250000</td>\n",
       "      <td>821.000000</td>\n",
       "      <td>2.500000</td>\n",
       "      <td>49462.000000</td>\n",
       "      <td>88.700000</td>\n",
       "      <td>90.620000</td>\n",
       "      <td>20.600000</td>\n",
       "      <td>38.000000</td>\n",
       "      <td>36.825000</td>\n",
       "      <td>42.025000</td>\n",
       "      <td>1.175000</td>\n",
       "      <td>34.095025</td>\n",
       "      <td>-100.530150</td>\n",
       "    </tr>\n",
       "    <tr>\n",
       "      <th>50%</th>\n",
       "      <td>171.500000</td>\n",
       "      <td>2.766250e+05</td>\n",
       "      <td>1393.000000</td>\n",
       "      <td>947.500000</td>\n",
       "      <td>3.100000</td>\n",
       "      <td>54586.500000</td>\n",
       "      <td>93.100000</td>\n",
       "      <td>93.660000</td>\n",
       "      <td>22.800000</td>\n",
       "      <td>42.000000</td>\n",
       "      <td>44.550000</td>\n",
       "      <td>50.900000</td>\n",
       "      <td>2.000000</td>\n",
       "      <td>38.506700</td>\n",
       "      <td>-87.978500</td>\n",
       "    </tr>\n",
       "    <tr>\n",
       "      <th>75%</th>\n",
       "      <td>257.250000</td>\n",
       "      <td>6.694870e+05</td>\n",
       "      <td>1736.250000</td>\n",
       "      <td>1165.000000</td>\n",
       "      <td>3.800000</td>\n",
       "      <td>61529.000000</td>\n",
       "      <td>101.400000</td>\n",
       "      <td>98.235000</td>\n",
       "      <td>25.100000</td>\n",
       "      <td>44.000000</td>\n",
       "      <td>60.025000</td>\n",
       "      <td>59.600000</td>\n",
       "      <td>3.000000</td>\n",
       "      <td>41.780325</td>\n",
       "      <td>-81.510075</td>\n",
       "    </tr>\n",
       "    <tr>\n",
       "      <th>max</th>\n",
       "      <td>343.000000</td>\n",
       "      <td>2.014047e+07</td>\n",
       "      <td>3422.000000</td>\n",
       "      <td>3000.000000</td>\n",
       "      <td>13.700000</td>\n",
       "      <td>136338.000000</td>\n",
       "      <td>178.600000</td>\n",
       "      <td>119.830000</td>\n",
       "      <td>39.400000</td>\n",
       "      <td>84.000000</td>\n",
       "      <td>88.700000</td>\n",
       "      <td>83.500000</td>\n",
       "      <td>6.900000</td>\n",
       "      <td>64.835300</td>\n",
       "      <td>-68.790600</td>\n",
       "    </tr>\n",
       "  </tbody>\n",
       "</table>\n",
       "</div>"
      ],
      "text/plain": [
       "       Unnamed: 0    Population      AvgRent   MedianRent   UnempRate  \\\n",
       "count  344.000000  3.440000e+02   344.000000   338.000000  335.000000   \n",
       "mean   171.500000  8.091447e+05  1493.375000  1044.568047    3.325373   \n",
       "std     99.448479  1.752598e+06   499.698727   352.917181    1.279893   \n",
       "min      0.000000  5.863900e+04   657.000000   648.000000    1.600000   \n",
       "25%     85.750000  1.556702e+05  1160.250000   821.000000    2.500000   \n",
       "50%    171.500000  2.766250e+05  1393.000000   947.500000    3.100000   \n",
       "75%    257.250000  6.694870e+05  1736.250000  1165.000000    3.800000   \n",
       "max    343.000000  2.014047e+07  3422.000000  3000.000000   13.700000   \n",
       "\n",
       "           AvgIncome  CostOfLiving  PriceParity  CommuteTime   MedianAQI  \\\n",
       "count     344.000000    335.000000   343.000000   289.000000  302.000000   \n",
       "mean    57241.354651     97.086866    95.097201    23.273702   41.016556   \n",
       "std     12594.193756     13.083548     6.180207     3.837995    8.868721   \n",
       "min     34503.000000     82.600000    85.480000    15.700000   10.000000   \n",
       "25%     49462.000000     88.700000    90.620000    20.600000   38.000000   \n",
       "50%     54586.500000     93.100000    93.660000    22.800000   42.000000   \n",
       "75%     61529.000000    101.400000    98.235000    25.100000   44.000000   \n",
       "max    136338.000000    178.600000   119.830000    39.400000   84.000000   \n",
       "\n",
       "       WalkScore  BikeScore  TransitScore    Latitude   Longitude  \n",
       "count  74.000000  74.000000    344.000000  344.000000  344.000000  \n",
       "mean   48.402703  51.610811      2.191860   37.974277  -92.980435  \n",
       "std    15.904699  12.466191      1.431178    5.539083   15.822677  \n",
       "min    21.400000  29.700000      0.000000   21.329400 -157.846000  \n",
       "25%    36.825000  42.025000      1.175000   34.095025 -100.530150  \n",
       "50%    44.550000  50.900000      2.000000   38.506700  -87.978500  \n",
       "75%    60.025000  59.600000      3.000000   41.780325  -81.510075  \n",
       "max    88.700000  83.500000      6.900000   64.835300  -68.790600  "
      ]
     },
     "execution_count": 6,
     "metadata": {},
     "output_type": "execute_result"
    }
   ],
   "source": [
    "us_cities.describe()"
   ]
  },
  {
   "cell_type": "markdown",
   "metadata": {},
   "source": [
    "### Are there rows and columns with null values. "
   ]
  },
  {
   "cell_type": "code",
   "execution_count": 7,
   "metadata": {},
   "outputs": [
    {
     "data": {
      "text/plain": [
       "Unnamed: 0      False\n",
       "City            False\n",
       "State           False\n",
       "Region          False\n",
       "Size            False\n",
       "Population      False\n",
       "AvgRent         False\n",
       "MedianRent       True\n",
       "UnempRate        True\n",
       "AvgIncome       False\n",
       "CostOfLiving     True\n",
       "PriceParity      True\n",
       "CommuteTime      True\n",
       "MedianAQI        True\n",
       "WalkScore        True\n",
       "BikeScore        True\n",
       "TransitScore    False\n",
       "Latitude        False\n",
       "Longitude       False\n",
       "dtype: bool"
      ]
     },
     "execution_count": 7,
     "metadata": {},
     "output_type": "execute_result"
    }
   ],
   "source": [
    "us_cities.isnull().any(axis = 0)"
   ]
  },
  {
   "cell_type": "markdown",
   "metadata": {},
   "source": [
    "### Here is a list of the columns in the dataset. "
   ]
  },
  {
   "cell_type": "code",
   "execution_count": 8,
   "metadata": {},
   "outputs": [
    {
     "data": {
      "text/plain": [
       "Index(['Unnamed: 0', 'City', 'State', 'Region', 'Size', 'Population',\n",
       "       'AvgRent', 'MedianRent', 'UnempRate', 'AvgIncome', 'CostOfLiving',\n",
       "       'PriceParity', 'CommuteTime', 'MedianAQI', 'WalkScore', 'BikeScore',\n",
       "       'TransitScore', 'Latitude', 'Longitude'],\n",
       "      dtype='object')"
      ]
     },
     "execution_count": 8,
     "metadata": {},
     "output_type": "execute_result"
    }
   ],
   "source": [
    "us_cities.columns"
   ]
  },
  {
   "cell_type": "markdown",
   "metadata": {},
   "source": [
    "### Here is a list of the columns."
   ]
  },
  {
   "cell_type": "code",
   "execution_count": 9,
   "metadata": {},
   "outputs": [
    {
     "data": {
      "text/plain": [
       "['Unnamed: 0',\n",
       " 'City',\n",
       " 'State',\n",
       " 'Region',\n",
       " 'Size',\n",
       " 'Population',\n",
       " 'AvgRent',\n",
       " 'MedianRent',\n",
       " 'UnempRate',\n",
       " 'AvgIncome',\n",
       " 'CostOfLiving',\n",
       " 'PriceParity',\n",
       " 'CommuteTime',\n",
       " 'MedianAQI',\n",
       " 'WalkScore',\n",
       " 'BikeScore',\n",
       " 'TransitScore',\n",
       " 'Latitude',\n",
       " 'Longitude']"
      ]
     },
     "execution_count": 9,
     "metadata": {},
     "output_type": "execute_result"
    }
   ],
   "source": [
    "list(us_cities.columns)"
   ]
  },
  {
   "cell_type": "markdown",
   "metadata": {},
   "source": [
    "### Let's drop some columns."
   ]
  },
  {
   "cell_type": "code",
   "execution_count": 10,
   "metadata": {},
   "outputs": [
    {
     "data": {
      "text/html": [
       "<div>\n",
       "<style scoped>\n",
       "    .dataframe tbody tr th:only-of-type {\n",
       "        vertical-align: middle;\n",
       "    }\n",
       "\n",
       "    .dataframe tbody tr th {\n",
       "        vertical-align: top;\n",
       "    }\n",
       "\n",
       "    .dataframe thead th {\n",
       "        text-align: right;\n",
       "    }\n",
       "</style>\n",
       "<table border=\"1\" class=\"dataframe\">\n",
       "  <thead>\n",
       "    <tr style=\"text-align: right;\">\n",
       "      <th></th>\n",
       "      <th>City</th>\n",
       "      <th>State</th>\n",
       "      <th>Population</th>\n",
       "      <th>AvgIncome</th>\n",
       "      <th>CostOfLiving</th>\n",
       "      <th>Latitude</th>\n",
       "      <th>Longitude</th>\n",
       "    </tr>\n",
       "  </thead>\n",
       "  <tbody>\n",
       "    <tr>\n",
       "      <th>0</th>\n",
       "      <td>New York</td>\n",
       "      <td>New York</td>\n",
       "      <td>20140470.0</td>\n",
       "      <td>85136.0</td>\n",
       "      <td>128.0</td>\n",
       "      <td>40.6943</td>\n",
       "      <td>-73.9249</td>\n",
       "    </tr>\n",
       "    <tr>\n",
       "      <th>1</th>\n",
       "      <td>Los Angeles</td>\n",
       "      <td>California</td>\n",
       "      <td>13200998.0</td>\n",
       "      <td>75821.0</td>\n",
       "      <td>140.6</td>\n",
       "      <td>34.1141</td>\n",
       "      <td>-118.4068</td>\n",
       "    </tr>\n",
       "    <tr>\n",
       "      <th>2</th>\n",
       "      <td>Chicago</td>\n",
       "      <td>Illinois</td>\n",
       "      <td>9618502.0</td>\n",
       "      <td>71992.0</td>\n",
       "      <td>100.1</td>\n",
       "      <td>41.8375</td>\n",
       "      <td>-87.6866</td>\n",
       "    </tr>\n",
       "    <tr>\n",
       "      <th>3</th>\n",
       "      <td>Dallas</td>\n",
       "      <td>Texas</td>\n",
       "      <td>7637387.0</td>\n",
       "      <td>66727.0</td>\n",
       "      <td>98.5</td>\n",
       "      <td>32.7935</td>\n",
       "      <td>-96.7667</td>\n",
       "    </tr>\n",
       "    <tr>\n",
       "      <th>4</th>\n",
       "      <td>Houston</td>\n",
       "      <td>Texas</td>\n",
       "      <td>7122240.0</td>\n",
       "      <td>64837.0</td>\n",
       "      <td>95.8</td>\n",
       "      <td>29.7860</td>\n",
       "      <td>-95.3885</td>\n",
       "    </tr>\n",
       "  </tbody>\n",
       "</table>\n",
       "</div>"
      ],
      "text/plain": [
       "          City       State  Population  AvgIncome  CostOfLiving  Latitude  \\\n",
       "0     New York    New York  20140470.0    85136.0         128.0   40.6943   \n",
       "1  Los Angeles  California  13200998.0    75821.0         140.6   34.1141   \n",
       "2      Chicago    Illinois   9618502.0    71992.0         100.1   41.8375   \n",
       "3       Dallas       Texas   7637387.0    66727.0          98.5   32.7935   \n",
       "4      Houston       Texas   7122240.0    64837.0          95.8   29.7860   \n",
       "\n",
       "   Longitude  \n",
       "0   -73.9249  \n",
       "1  -118.4068  \n",
       "2   -87.6866  \n",
       "3   -96.7667  \n",
       "4   -95.3885  "
      ]
     },
     "execution_count": 10,
     "metadata": {},
     "output_type": "execute_result"
    }
   ],
   "source": [
    "us_cities = us_cities.drop(\n",
    "    [\n",
    "    'Unnamed: 0',\n",
    "    'Region',\n",
    "    'BikeScore',\n",
    "    'WalkScore',\n",
    "    'TransitScore',\n",
    "    'CommuteTime',\n",
    "    'PriceParity',\n",
    "    'UnempRate',\n",
    "    'AvgRent',\n",
    "    'MedianRent',\n",
    "    'MedianAQI',    \n",
    "    'Size'\n",
    "    ],\n",
    "    axis=1\n",
    ")\n",
    "\n",
    "us_cities.head()"
   ]
  },
  {
   "cell_type": "code",
   "execution_count": 11,
   "metadata": {},
   "outputs": [
    {
     "name": "stdout",
     "output_type": "stream",
     "text": [
      "City             object\n",
      "State            object\n",
      "Population      float64\n",
      "AvgIncome       float64\n",
      "CostOfLiving    float64\n",
      "Latitude        float64\n",
      "Longitude       float64\n",
      "dtype: object\n"
     ]
    }
   ],
   "source": [
    "print(us_cities.dtypes)"
   ]
  },
  {
   "cell_type": "markdown",
   "metadata": {},
   "source": [
    "### Let's create a function to change items in a column to integers. We will use this function to convert the data type of Population and AvgIncome to int64. "
   ]
  },
  {
   "cell_type": "code",
   "execution_count": 12,
   "metadata": {},
   "outputs": [],
   "source": [
    "def convert_columns_to_int(df, columns):\n",
    "    for column in columns:\n",
    "            df[column] = df[column].astype('int64')"
   ]
  },
  {
   "cell_type": "code",
   "execution_count": 13,
   "metadata": {},
   "outputs": [
    {
     "name": "stdout",
     "output_type": "stream",
     "text": [
      "City             object\n",
      "State            object\n",
      "Population        int64\n",
      "AvgIncome         int64\n",
      "CostOfLiving    float64\n",
      "Latitude        float64\n",
      "Longitude       float64\n",
      "dtype: object\n"
     ]
    }
   ],
   "source": [
    "convert_columns_to_int(us_cities, ['Population', 'AvgIncome'])\n",
    "\n",
    "print(us_cities.dtypes)"
   ]
  },
  {
   "cell_type": "markdown",
   "metadata": {},
   "source": [
    "### Now let's create a function to change items in a column from objects to strings. We will use this function to convert the data type of City and State to strings. "
   ]
  },
  {
   "cell_type": "code",
   "execution_count": 14,
   "metadata": {},
   "outputs": [],
   "source": [
    "def convert_columns_to_string(df, columns):\n",
    "      for column in columns:\n",
    "            df[column] = df[column].astype('string')\n",
    "\n"
   ]
  },
  {
   "cell_type": "code",
   "execution_count": 15,
   "metadata": {},
   "outputs": [
    {
     "name": "stdout",
     "output_type": "stream",
     "text": [
      "City            string[python]\n",
      "State           string[python]\n",
      "Population               int64\n",
      "AvgIncome                int64\n",
      "CostOfLiving           float64\n",
      "Latitude               float64\n",
      "Longitude              float64\n",
      "dtype: object\n"
     ]
    }
   ],
   "source": [
    "convert_columns_to_string(us_cities, ['City', 'State'])\n",
    "\n",
    "print(us_cities.dtypes)"
   ]
  },
  {
   "cell_type": "markdown",
   "metadata": {},
   "source": [
    "### Let's check to see if there are duplicates for any cities in the data set. "
   ]
  },
  {
   "cell_type": "code",
   "execution_count": 16,
   "metadata": {},
   "outputs": [
    {
     "name": "stdout",
     "output_type": "stream",
     "text": [
      "Empty DataFrame\n",
      "Columns: [City, State, Population, AvgIncome, CostOfLiving, Latitude, Longitude]\n",
      "Index: []\n"
     ]
    }
   ],
   "source": [
    "duplicate_city = us_cities[us_cities.duplicated(subset=['City', 'State'])]\n",
    "\n",
    "print(duplicate_city)"
   ]
  },
  {
   "cell_type": "markdown",
   "metadata": {},
   "source": [
    "### Let's rename some of the columns for better readability."
   ]
  },
  {
   "cell_type": "code",
   "execution_count": 17,
   "metadata": {},
   "outputs": [
    {
     "data": {
      "text/plain": [
       "Index(['City', 'State', 'Population', 'Avg Income', 'Cost of Living',\n",
       "       'Latitude', 'Longitude'],\n",
       "      dtype='object')"
      ]
     },
     "execution_count": 17,
     "metadata": {},
     "output_type": "execute_result"
    }
   ],
   "source": [
    "us_cities.rename(columns={'AvgIncome' : 'Avg Income',\n",
    "                          'CostOfLiving' : 'Cost of Living'\n",
    "                          },\n",
    "                          inplace = True)\n",
    "us_cities.columns"
   ]
  },
  {
   "cell_type": "markdown",
   "metadata": {},
   "source": [
    "### Let's see how many null values are present in Miles of Trails."
   ]
  },
  {
   "cell_type": "markdown",
   "metadata": {},
   "source": [
    "### Let's see what columns have null values. "
   ]
  },
  {
   "cell_type": "code",
   "execution_count": 18,
   "metadata": {},
   "outputs": [
    {
     "data": {
      "text/plain": [
       "City              False\n",
       "State             False\n",
       "Population        False\n",
       "Avg Income        False\n",
       "Cost of Living     True\n",
       "Latitude          False\n",
       "Longitude         False\n",
       "dtype: bool"
      ]
     },
     "execution_count": 18,
     "metadata": {},
     "output_type": "execute_result"
    }
   ],
   "source": [
    "us_cities.isnull().any(axis = 0)"
   ]
  },
  {
   "cell_type": "markdown",
   "metadata": {},
   "source": [
    "### Let's create a function to extract null rows in a data set. We'll use the function to see which rows have null values in the Cost of Living column."
   ]
  },
  {
   "cell_type": "code",
   "execution_count": 19,
   "metadata": {},
   "outputs": [],
   "source": [
    "def extract_null_rows(df):\n",
    "    return df[df.isnull().any(axis=1)]\n",
    "\n"
   ]
  },
  {
   "cell_type": "code",
   "execution_count": 20,
   "metadata": {},
   "outputs": [
    {
     "name": "stdout",
     "output_type": "stream",
     "text": [
      "               City        State  Population  Avg Income  Cost of Living  \\\n",
      "53   Urban Honolulu       Hawaii     1016508       63912             NaN   \n",
      "58       Bridgeport  Connecticut      957419      127391             NaN   \n",
      "69           Oxnard   California      843843       73375             NaN   \n",
      "70       North Port      Florida      833716       69376             NaN   \n",
      "76       Cape Coral      Florida      760822       62885             NaN   \n",
      "86          Deltona      Florida      668921       53559             NaN   \n",
      "92         Palm Bay      Florida      606612       55477             NaN   \n",
      "178         Norwich  Connecticut      268555       63877             NaN   \n",
      "251       Sebastian      Florida      159788       95109             NaN   \n",
      "\n",
      "     Latitude  Longitude  \n",
      "53    21.3294  -157.8460  \n",
      "58    41.1918   -73.1954  \n",
      "69    34.1964  -119.1815  \n",
      "70    27.0576   -82.1977  \n",
      "76    26.6443   -81.9957  \n",
      "86    28.9050   -81.2137  \n",
      "92    27.9631   -80.6593  \n",
      "178   41.5495   -72.0882  \n",
      "251   27.7822   -80.4819  \n"
     ]
    }
   ],
   "source": [
    "null_rows_cities = extract_null_rows(us_cities)\n",
    "\n",
    "print(null_rows_cities)"
   ]
  },
  {
   "cell_type": "markdown",
   "metadata": {},
   "source": [
    "### We will replace the Cost of Living null values with the Cost of Living average for the state in which the city is located. We will do this only for the states that had cities with null values in the dataset. We will write this to a dictionary so that the values are stored. "
   ]
  },
  {
   "cell_type": "code",
   "execution_count": 21,
   "metadata": {},
   "outputs": [
    {
     "name": "stdout",
     "output_type": "stream",
     "text": [
      "{'California': 127.15833333333335, 'Connecticut': 106.25, 'Florida': 100.3, 'Hawaii': nan}\n"
     ]
    }
   ],
   "source": [
    "states_with_Nan = ['Hawaii', 'Connecticut', 'California', 'Florida']\n",
    "\n",
    "stateCol_avg = us_cities[us_cities['State'].isin(states_with_Nan)].groupby('State')['Cost of Living'].mean()\n",
    "\n",
    "stateCol_avg_dict = stateCol_avg.to_dict()\n",
    "\n",
    "print(stateCol_avg_dict)\n"
   ]
  },
  {
   "cell_type": "markdown",
   "metadata": {},
   "source": [
    "### Now let's use the dictionary for Cost of Living averages (stateCol_avg_dict) for the states that had cities with null values to replace the null values. We'll test to make sure this worked by priting the cities that still have null values. "
   ]
  },
  {
   "cell_type": "code",
   "execution_count": 22,
   "metadata": {},
   "outputs": [
    {
     "name": "stdout",
     "output_type": "stream",
     "text": [
      "              City   State  Population  Avg Income  Cost of Living  Latitude  \\\n",
      "53  Urban Honolulu  Hawaii     1016508       63912             NaN   21.3294   \n",
      "\n",
      "    Longitude  \n",
      "53   -157.846  \n"
     ]
    }
   ],
   "source": [
    "us_cities.loc[us_cities['Cost of Living'].isnull(), 'Cost of Living'] = (us_cities['State'].map(stateCol_avg_dict))\n",
    "\n",
    "\n",
    "print(us_cities[us_cities['Cost of Living'].isnull()])\n",
    "           \n"
   ]
  },
  {
   "cell_type": "markdown",
   "metadata": {},
   "source": [
    "#### Let's drop the city of Hawaii as we aren't interested in living outside the continental United States and there is no data to calculate an average Cost of Living for the state of Hawaii. We will then try to print cities with null values to ensure Hawaii has been dropped. "
   ]
  },
  {
   "cell_type": "code",
   "execution_count": 23,
   "metadata": {},
   "outputs": [
    {
     "name": "stdout",
     "output_type": "stream",
     "text": [
      "Empty DataFrame\n",
      "Columns: [City, State, Population, Avg Income, Cost of Living, Latitude, Longitude]\n",
      "Index: []\n"
     ]
    }
   ],
   "source": [
    "us_cities = us_cities.drop(us_cities[us_cities['State'] == 'Hawaii'].index)\n",
    "\n",
    "print(us_cities[us_cities['Cost of Living'].isnull()])"
   ]
  },
  {
   "cell_type": "markdown",
   "metadata": {},
   "source": [
    "## Part 2: cleans the data from [https://www.kaggle.com/datasets/vellis1/us-cities-urban-connectivity/data](https://www.kaggle.com/datasets/vellis1/us-cities-urban-connectivity/data).\n",
    "\n",
    "### This data set contains information about the amenities available in US Cities including walkability score, miles of trails, etc. This data is sourced from someone else's data set on Kaggle.\n",
    "\n"
   ]
  },
  {
   "cell_type": "code",
   "execution_count": 24,
   "metadata": {},
   "outputs": [],
   "source": [
    "import pandas as pd\n",
    "connectivity = pd.read_csv('urban_connectivity.csv')\n"
   ]
  },
  {
   "cell_type": "markdown",
   "metadata": {},
   "source": [
    "### Let's look at the first few rows of the dataset. "
   ]
  },
  {
   "cell_type": "code",
   "execution_count": 25,
   "metadata": {},
   "outputs": [
    {
     "data": {
      "text/html": [
       "<div>\n",
       "<style scoped>\n",
       "    .dataframe tbody tr th:only-of-type {\n",
       "        vertical-align: middle;\n",
       "    }\n",
       "\n",
       "    .dataframe tbody tr th {\n",
       "        vertical-align: top;\n",
       "    }\n",
       "\n",
       "    .dataframe thead th {\n",
       "        text-align: right;\n",
       "    }\n",
       "</style>\n",
       "<table border=\"1\" class=\"dataframe\">\n",
       "  <thead>\n",
       "    <tr style=\"text-align: right;\">\n",
       "      <th></th>\n",
       "      <th>Unnamed: 0</th>\n",
       "      <th>Place_name</th>\n",
       "      <th>City</th>\n",
       "      <th>State</th>\n",
       "      <th>Walk Score</th>\n",
       "      <th>Transit Score</th>\n",
       "      <th>Bike Score</th>\n",
       "      <th>Population_2021</th>\n",
       "      <th>Population_2022_Census</th>\n",
       "      <th>City_Population_Stats_adjusted_land_area__acres_</th>\n",
       "      <th>...</th>\n",
       "      <th>Number_of_Splashpads</th>\n",
       "      <th>Number_of_Swimming_pools</th>\n",
       "      <th>Number_of_Disc_Golf_Courses</th>\n",
       "      <th>Trail_Miles_Improved_Trails</th>\n",
       "      <th>Trail_Miles_Nature_trails</th>\n",
       "      <th>Number_of_Tracks_At_Park_Sites</th>\n",
       "      <th>Number_of_Tracks_At_community_schoolyards</th>\n",
       "      <th>Number_of_Exercise_Zones</th>\n",
       "      <th>Miles_of_car_free_roadways_in_parks</th>\n",
       "      <th>Permanent_car_free_roadways</th>\n",
       "    </tr>\n",
       "  </thead>\n",
       "  <tbody>\n",
       "    <tr>\n",
       "      <th>0</th>\n",
       "      <td>0</td>\n",
       "      <td>Los Angeles, CA</td>\n",
       "      <td>Los Angeles</td>\n",
       "      <td>CA</td>\n",
       "      <td>68.6</td>\n",
       "      <td>52.9</td>\n",
       "      <td>58.7</td>\n",
       "      <td>3792621</td>\n",
       "      <td>3903648.0</td>\n",
       "      <td>296527.0</td>\n",
       "      <td>...</td>\n",
       "      <td>17.0</td>\n",
       "      <td>64.0</td>\n",
       "      <td>4.0</td>\n",
       "      <td>33.00</td>\n",
       "      <td>33.0</td>\n",
       "      <td>1.0</td>\n",
       "      <td>0.0</td>\n",
       "      <td>133.0</td>\n",
       "      <td>0.0</td>\n",
       "      <td>0.0</td>\n",
       "    </tr>\n",
       "    <tr>\n",
       "      <th>1</th>\n",
       "      <td>1</td>\n",
       "      <td>San Diego, CA</td>\n",
       "      <td>San Diego</td>\n",
       "      <td>CA</td>\n",
       "      <td>53.3</td>\n",
       "      <td>37.3</td>\n",
       "      <td>43.0</td>\n",
       "      <td>1307402</td>\n",
       "      <td>1394592.0</td>\n",
       "      <td>206371.0</td>\n",
       "      <td>...</td>\n",
       "      <td>4.0</td>\n",
       "      <td>14.0</td>\n",
       "      <td>3.0</td>\n",
       "      <td>66.20</td>\n",
       "      <td>292.8</td>\n",
       "      <td>0.0</td>\n",
       "      <td>50.0</td>\n",
       "      <td>8.0</td>\n",
       "      <td>0.0</td>\n",
       "      <td>0.0</td>\n",
       "    </tr>\n",
       "    <tr>\n",
       "      <th>2</th>\n",
       "      <td>2</td>\n",
       "      <td>San Jose, CA</td>\n",
       "      <td>San Jose</td>\n",
       "      <td>CA</td>\n",
       "      <td>50.5</td>\n",
       "      <td>40.1</td>\n",
       "      <td>61.5</td>\n",
       "      <td>945942</td>\n",
       "      <td>1018924.0</td>\n",
       "      <td>112666.0</td>\n",
       "      <td>...</td>\n",
       "      <td>2.0</td>\n",
       "      <td>6.0</td>\n",
       "      <td>1.0</td>\n",
       "      <td>75.60</td>\n",
       "      <td>37.9</td>\n",
       "      <td>0.0</td>\n",
       "      <td>0.0</td>\n",
       "      <td>42.0</td>\n",
       "      <td>0.0</td>\n",
       "      <td>0.0</td>\n",
       "    </tr>\n",
       "    <tr>\n",
       "      <th>3</th>\n",
       "      <td>3</td>\n",
       "      <td>San Francisco, CA</td>\n",
       "      <td>San Francisco</td>\n",
       "      <td>CA</td>\n",
       "      <td>88.7</td>\n",
       "      <td>77.1</td>\n",
       "      <td>72.3</td>\n",
       "      <td>805235</td>\n",
       "      <td>883822.0</td>\n",
       "      <td>29892.0</td>\n",
       "      <td>...</td>\n",
       "      <td>11.0</td>\n",
       "      <td>12.0</td>\n",
       "      <td>2.0</td>\n",
       "      <td>51.35</td>\n",
       "      <td>34.0</td>\n",
       "      <td>3.0</td>\n",
       "      <td>0.0</td>\n",
       "      <td>5.0</td>\n",
       "      <td>7.0</td>\n",
       "      <td>4.0</td>\n",
       "    </tr>\n",
       "    <tr>\n",
       "      <th>4</th>\n",
       "      <td>4</td>\n",
       "      <td>Fresno, CA</td>\n",
       "      <td>Fresno</td>\n",
       "      <td>CA</td>\n",
       "      <td>46.6</td>\n",
       "      <td>33.1</td>\n",
       "      <td>58.1</td>\n",
       "      <td>494665</td>\n",
       "      <td>547499.0</td>\n",
       "      <td>72537.0</td>\n",
       "      <td>...</td>\n",
       "      <td>7.0</td>\n",
       "      <td>9.0</td>\n",
       "      <td>1.0</td>\n",
       "      <td>2.00</td>\n",
       "      <td>0.0</td>\n",
       "      <td>10.0</td>\n",
       "      <td>0.0</td>\n",
       "      <td>17.0</td>\n",
       "      <td>0.0</td>\n",
       "      <td>0.0</td>\n",
       "    </tr>\n",
       "  </tbody>\n",
       "</table>\n",
       "<p>5 rows × 79 columns</p>\n",
       "</div>"
      ],
      "text/plain": [
       "   Unnamed: 0         Place_name           City State  Walk Score  \\\n",
       "0           0    Los Angeles, CA    Los Angeles    CA        68.6   \n",
       "1           1      San Diego, CA      San Diego    CA        53.3   \n",
       "2           2       San Jose, CA       San Jose    CA        50.5   \n",
       "3           3  San Francisco, CA  San Francisco    CA        88.7   \n",
       "4           4         Fresno, CA         Fresno    CA        46.6   \n",
       "\n",
       "   Transit Score  Bike Score  Population_2021  Population_2022_Census  \\\n",
       "0           52.9        58.7          3792621               3903648.0   \n",
       "1           37.3        43.0          1307402               1394592.0   \n",
       "2           40.1        61.5           945942               1018924.0   \n",
       "3           77.1        72.3           805235                883822.0   \n",
       "4           33.1        58.1           494665                547499.0   \n",
       "\n",
       "   City_Population_Stats_adjusted_land_area__acres_  ...  \\\n",
       "0                                          296527.0  ...   \n",
       "1                                          206371.0  ...   \n",
       "2                                          112666.0  ...   \n",
       "3                                           29892.0  ...   \n",
       "4                                           72537.0  ...   \n",
       "\n",
       "   Number_of_Splashpads Number_of_Swimming_pools  Number_of_Disc_Golf_Courses  \\\n",
       "0                  17.0                     64.0                          4.0   \n",
       "1                   4.0                     14.0                          3.0   \n",
       "2                   2.0                      6.0                          1.0   \n",
       "3                  11.0                     12.0                          2.0   \n",
       "4                   7.0                      9.0                          1.0   \n",
       "\n",
       "   Trail_Miles_Improved_Trails Trail_Miles_Nature_trails  \\\n",
       "0                        33.00                      33.0   \n",
       "1                        66.20                     292.8   \n",
       "2                        75.60                      37.9   \n",
       "3                        51.35                      34.0   \n",
       "4                         2.00                       0.0   \n",
       "\n",
       "   Number_of_Tracks_At_Park_Sites  Number_of_Tracks_At_community_schoolyards  \\\n",
       "0                             1.0                                        0.0   \n",
       "1                             0.0                                       50.0   \n",
       "2                             0.0                                        0.0   \n",
       "3                             3.0                                        0.0   \n",
       "4                            10.0                                        0.0   \n",
       "\n",
       "   Number_of_Exercise_Zones  Miles_of_car_free_roadways_in_parks  \\\n",
       "0                     133.0                                  0.0   \n",
       "1                       8.0                                  0.0   \n",
       "2                      42.0                                  0.0   \n",
       "3                       5.0                                  7.0   \n",
       "4                      17.0                                  0.0   \n",
       "\n",
       "   Permanent_car_free_roadways  \n",
       "0                          0.0  \n",
       "1                          0.0  \n",
       "2                          0.0  \n",
       "3                          4.0  \n",
       "4                          0.0  \n",
       "\n",
       "[5 rows x 79 columns]"
      ]
     },
     "execution_count": 25,
     "metadata": {},
     "output_type": "execute_result"
    }
   ],
   "source": [
    "connectivity.head()"
   ]
  },
  {
   "cell_type": "markdown",
   "metadata": {},
   "source": [
    "### Let's look at the last few rows of the dataset. "
   ]
  },
  {
   "cell_type": "code",
   "execution_count": 26,
   "metadata": {},
   "outputs": [
    {
     "data": {
      "text/html": [
       "<div>\n",
       "<style scoped>\n",
       "    .dataframe tbody tr th:only-of-type {\n",
       "        vertical-align: middle;\n",
       "    }\n",
       "\n",
       "    .dataframe tbody tr th {\n",
       "        vertical-align: top;\n",
       "    }\n",
       "\n",
       "    .dataframe thead th {\n",
       "        text-align: right;\n",
       "    }\n",
       "</style>\n",
       "<table border=\"1\" class=\"dataframe\">\n",
       "  <thead>\n",
       "    <tr style=\"text-align: right;\">\n",
       "      <th></th>\n",
       "      <th>Unnamed: 0</th>\n",
       "      <th>Place_name</th>\n",
       "      <th>City</th>\n",
       "      <th>State</th>\n",
       "      <th>Walk Score</th>\n",
       "      <th>Transit Score</th>\n",
       "      <th>Bike Score</th>\n",
       "      <th>Population_2021</th>\n",
       "      <th>Population_2022_Census</th>\n",
       "      <th>City_Population_Stats_adjusted_land_area__acres_</th>\n",
       "      <th>...</th>\n",
       "      <th>Number_of_Splashpads</th>\n",
       "      <th>Number_of_Swimming_pools</th>\n",
       "      <th>Number_of_Disc_Golf_Courses</th>\n",
       "      <th>Trail_Miles_Improved_Trails</th>\n",
       "      <th>Trail_Miles_Nature_trails</th>\n",
       "      <th>Number_of_Tracks_At_Park_Sites</th>\n",
       "      <th>Number_of_Tracks_At_community_schoolyards</th>\n",
       "      <th>Number_of_Exercise_Zones</th>\n",
       "      <th>Miles_of_car_free_roadways_in_parks</th>\n",
       "      <th>Permanent_car_free_roadways</th>\n",
       "    </tr>\n",
       "  </thead>\n",
       "  <tbody>\n",
       "    <tr>\n",
       "      <th>97</th>\n",
       "      <td>97</td>\n",
       "      <td>Wichita, KS</td>\n",
       "      <td>Wichita</td>\n",
       "      <td>KS</td>\n",
       "      <td>34.8</td>\n",
       "      <td>19.7</td>\n",
       "      <td>43.9</td>\n",
       "      <td>382368</td>\n",
       "      <td>399769.0</td>\n",
       "      <td>101231.0</td>\n",
       "      <td>...</td>\n",
       "      <td>11.0</td>\n",
       "      <td>6.0</td>\n",
       "      <td>7.0</td>\n",
       "      <td>88.53</td>\n",
       "      <td>12.26</td>\n",
       "      <td>8.0</td>\n",
       "      <td>0.0</td>\n",
       "      <td>15.0</td>\n",
       "      <td>0.00</td>\n",
       "      <td>0.0</td>\n",
       "    </tr>\n",
       "    <tr>\n",
       "      <th>98</th>\n",
       "      <td>98</td>\n",
       "      <td>Anchorage, AK</td>\n",
       "      <td>Anchorage</td>\n",
       "      <td>AK</td>\n",
       "      <td>30.9</td>\n",
       "      <td>21.6</td>\n",
       "      <td>51.8</td>\n",
       "      <td>291826</td>\n",
       "      <td>290509.0</td>\n",
       "      <td>1087624.0</td>\n",
       "      <td>...</td>\n",
       "      <td>0.0</td>\n",
       "      <td>5.0</td>\n",
       "      <td>2.0</td>\n",
       "      <td>135.00</td>\n",
       "      <td>0.00</td>\n",
       "      <td>0.0</td>\n",
       "      <td>0.0</td>\n",
       "      <td>2.0</td>\n",
       "      <td>0.00</td>\n",
       "      <td>0.0</td>\n",
       "    </tr>\n",
       "    <tr>\n",
       "      <th>99</th>\n",
       "      <td>99</td>\n",
       "      <td>Boise, ID</td>\n",
       "      <td>Boise City</td>\n",
       "      <td>ID</td>\n",
       "      <td>38.5</td>\n",
       "      <td>22.6</td>\n",
       "      <td>62.3</td>\n",
       "      <td>205671</td>\n",
       "      <td>240861.0</td>\n",
       "      <td>52046.0</td>\n",
       "      <td>...</td>\n",
       "      <td>6.0</td>\n",
       "      <td>7.0</td>\n",
       "      <td>2.0</td>\n",
       "      <td>34.10</td>\n",
       "      <td>49.00</td>\n",
       "      <td>0.0</td>\n",
       "      <td>0.0</td>\n",
       "      <td>4.0</td>\n",
       "      <td>0.13</td>\n",
       "      <td>0.0</td>\n",
       "    </tr>\n",
       "    <tr>\n",
       "      <th>100</th>\n",
       "      <td>100</td>\n",
       "      <td>Albuquerque, NM</td>\n",
       "      <td>Albuquerque</td>\n",
       "      <td>NM</td>\n",
       "      <td>42.6</td>\n",
       "      <td>28.6</td>\n",
       "      <td>60.9</td>\n",
       "      <td>545852</td>\n",
       "      <td>567242.0</td>\n",
       "      <td>113711.0</td>\n",
       "      <td>...</td>\n",
       "      <td>4.0</td>\n",
       "      <td>12.0</td>\n",
       "      <td>3.0</td>\n",
       "      <td>160.00</td>\n",
       "      <td>0.00</td>\n",
       "      <td>0.0</td>\n",
       "      <td>0.0</td>\n",
       "      <td>20.0</td>\n",
       "      <td>0.00</td>\n",
       "      <td>0.0</td>\n",
       "    </tr>\n",
       "    <tr>\n",
       "      <th>101</th>\n",
       "      <td>101</td>\n",
       "      <td>Washington, DC</td>\n",
       "      <td>Washington D.C.</td>\n",
       "      <td>DC</td>\n",
       "      <td>76.7</td>\n",
       "      <td>68.7</td>\n",
       "      <td>69.5</td>\n",
       "      <td>601723</td>\n",
       "      <td>706367.0</td>\n",
       "      <td>39004.0</td>\n",
       "      <td>...</td>\n",
       "      <td>37.0</td>\n",
       "      <td>33.0</td>\n",
       "      <td>0.0</td>\n",
       "      <td>1649.05</td>\n",
       "      <td>6.10</td>\n",
       "      <td>25.0</td>\n",
       "      <td>3.0</td>\n",
       "      <td>39.0</td>\n",
       "      <td>0.00</td>\n",
       "      <td>0.0</td>\n",
       "    </tr>\n",
       "  </tbody>\n",
       "</table>\n",
       "<p>5 rows × 79 columns</p>\n",
       "</div>"
      ],
      "text/plain": [
       "     Unnamed: 0       Place_name             City State  Walk Score  \\\n",
       "97           97      Wichita, KS          Wichita    KS        34.8   \n",
       "98           98    Anchorage, AK        Anchorage    AK        30.9   \n",
       "99           99        Boise, ID       Boise City    ID        38.5   \n",
       "100         100  Albuquerque, NM      Albuquerque    NM        42.6   \n",
       "101         101   Washington, DC  Washington D.C.    DC        76.7   \n",
       "\n",
       "     Transit Score  Bike Score  Population_2021  Population_2022_Census  \\\n",
       "97            19.7        43.9           382368                399769.0   \n",
       "98            21.6        51.8           291826                290509.0   \n",
       "99            22.6        62.3           205671                240861.0   \n",
       "100           28.6        60.9           545852                567242.0   \n",
       "101           68.7        69.5           601723                706367.0   \n",
       "\n",
       "     City_Population_Stats_adjusted_land_area__acres_  ...  \\\n",
       "97                                           101231.0  ...   \n",
       "98                                          1087624.0  ...   \n",
       "99                                            52046.0  ...   \n",
       "100                                          113711.0  ...   \n",
       "101                                           39004.0  ...   \n",
       "\n",
       "     Number_of_Splashpads Number_of_Swimming_pools  \\\n",
       "97                   11.0                      6.0   \n",
       "98                    0.0                      5.0   \n",
       "99                    6.0                      7.0   \n",
       "100                   4.0                     12.0   \n",
       "101                  37.0                     33.0   \n",
       "\n",
       "     Number_of_Disc_Golf_Courses  Trail_Miles_Improved_Trails  \\\n",
       "97                           7.0                        88.53   \n",
       "98                           2.0                       135.00   \n",
       "99                           2.0                        34.10   \n",
       "100                          3.0                       160.00   \n",
       "101                          0.0                      1649.05   \n",
       "\n",
       "    Trail_Miles_Nature_trails  Number_of_Tracks_At_Park_Sites  \\\n",
       "97                      12.26                             8.0   \n",
       "98                       0.00                             0.0   \n",
       "99                      49.00                             0.0   \n",
       "100                      0.00                             0.0   \n",
       "101                      6.10                            25.0   \n",
       "\n",
       "     Number_of_Tracks_At_community_schoolyards  Number_of_Exercise_Zones  \\\n",
       "97                                         0.0                      15.0   \n",
       "98                                         0.0                       2.0   \n",
       "99                                         0.0                       4.0   \n",
       "100                                        0.0                      20.0   \n",
       "101                                        3.0                      39.0   \n",
       "\n",
       "     Miles_of_car_free_roadways_in_parks  Permanent_car_free_roadways  \n",
       "97                                  0.00                          0.0  \n",
       "98                                  0.00                          0.0  \n",
       "99                                  0.13                          0.0  \n",
       "100                                 0.00                          0.0  \n",
       "101                                 0.00                          0.0  \n",
       "\n",
       "[5 rows x 79 columns]"
      ]
     },
     "execution_count": 26,
     "metadata": {},
     "output_type": "execute_result"
    }
   ],
   "source": [
    "connectivity.tail()"
   ]
  },
  {
   "cell_type": "markdown",
   "metadata": {},
   "source": [
    "### Let's look at the shape of the data set. "
   ]
  },
  {
   "cell_type": "code",
   "execution_count": 27,
   "metadata": {},
   "outputs": [
    {
     "name": "stdout",
     "output_type": "stream",
     "text": [
      "The data set has 102 rows and 79 columns.\n"
     ]
    }
   ],
   "source": [
    "connectivity_shape = connectivity.shape\n",
    "\n",
    "print(f'The data set has {connectivity_shape[0]} rows and {connectivity_shape[1]} columns.')"
   ]
  },
  {
   "cell_type": "markdown",
   "metadata": {},
   "source": [
    "### Here is a summary of the dataset structure."
   ]
  },
  {
   "cell_type": "code",
   "execution_count": 28,
   "metadata": {},
   "outputs": [
    {
     "name": "stdout",
     "output_type": "stream",
     "text": [
      "<class 'pandas.core.frame.DataFrame'>\n",
      "RangeIndex: 102 entries, 0 to 101\n",
      "Data columns (total 79 columns):\n",
      " #   Column                                                    Non-Null Count  Dtype  \n",
      "---  ------                                                    --------------  -----  \n",
      " 0   Unnamed: 0                                                102 non-null    int64  \n",
      " 1   Place_name                                                102 non-null    object \n",
      " 2   City                                                      102 non-null    object \n",
      " 3   State                                                     102 non-null    object \n",
      " 4   Walk Score                                                102 non-null    float64\n",
      " 5   Transit Score                                             97 non-null     float64\n",
      " 6   Bike Score                                                102 non-null    float64\n",
      " 7   Population_2021                                           102 non-null    int64  \n",
      " 8   Population_2022_Census                                    102 non-null    float64\n",
      " 9   City_Population_Stats_adjusted_land_area__acres_          102 non-null    float64\n",
      " 10  City_Population_Stats_density__people_acre_               102 non-null    float64\n",
      " 11  City_Population_Stats_density_classification              102 non-null    object \n",
      " 12  City_Population_Stats_2000_population                     102 non-null    float64\n",
      " 13  City_Population_Stats_population_growth                   102 non-null    float64\n",
      " 14  City_Population_Stats_population_growth_classification    102 non-null    object \n",
      " 15  Parkland_Stats_by_City_total_acres                        101 non-null    float64\n",
      " 16  Parkland_Stats_by_City__natural                           101 non-null    float64\n",
      " 17  Parkland_Stats_by_City__designed                          101 non-null    float64\n",
      " 18  Parkland_Stats_by_City_total_park_units                   101 non-null    float64\n",
      " 19  Parkland_Stats_by_City_parks_as__city_area                101 non-null    float64\n",
      " 20  Walkable_Park_Access_all_residents                        98 non-null     float64\n",
      " 21  Walkable_Park_Access_black                                98 non-null     float64\n",
      " 22  Walkable_Park_Access_hispanic_latinx                      98 non-null     float64\n",
      " 23  Walkable_Park_Access_asian                                98 non-null     float64\n",
      " 24  Walkable_Park_Access_other_race                           98 non-null     float64\n",
      " 25  Walkable_Park_Access_multiple_races                       98 non-null     float64\n",
      " 26  Walkable_Park_Access_pacific_islander                     98 non-null     float64\n",
      " 27  Walkable_Park_Access_american_indian_alaska_native        98 non-null     float64\n",
      " 28  Walkable_Park_Access_all_people_of_color                  98 non-null     float64\n",
      " 29  Walkable_Park_Access_white                                98 non-null     float64\n",
      " 30  Walkable_Park_Access_low__75_city_income_                 98 non-null     float64\n",
      " 31  Walkable_Park_Access_middle                               98 non-null     float64\n",
      " 32  Walkable_Park_Access_high__125_city_median_income_        98 non-null     float64\n",
      " 33  Walkable_Park_Access_children__u19_                       98 non-null     float64\n",
      " 34  Walkable_Park_Access_adults__19_64_                       98 non-null     float64\n",
      " 35  Walkable_Park_Access_seniors__65_                         98 non-null     float64\n",
      " 36  Distribution_of_Park_Space_low_income                     98 non-null     float64\n",
      " 37  Distribution_of_Park_Space_high_income                    98 non-null     float64\n",
      " 38  Distribution_of_Park_Space_black                          93 non-null     float64\n",
      " 39  Distribution_of_Park_Space_hispanic_latnix                98 non-null     float64\n",
      " 40  Distribution_of_Park_Space_asian                          90 non-null     float64\n",
      " 41  Distribution_of_Park_Space_other_race                     1 non-null      float64\n",
      " 42  Distribution_of_Park_Space_multiple_races                 94 non-null     float64\n",
      " 43  Distribution_of_Park_Space_pacific_islander               2 non-null      float64\n",
      " 44  Distribution_of_Park_Space_american_indian_alaska_native  4 non-null      float64\n",
      " 45  Distribution_of_Park_Space_white                          98 non-null     float64\n",
      " 46  Distribution_of_Park_Space_neighborhoods_of_color         98 non-null     float64\n",
      " 47  Number_of_Fields_and_Diamonds                             86 non-null     float64\n",
      " 48  Number_of_Courts                                          76 non-null     float64\n",
      " 49  Number_of_Tennis_courts                                   102 non-null    float64\n",
      " 50  Number_of_Pickleball_courts                               102 non-null    float64\n",
      " 51  Number_of_Pickleball_courts_overlay_tennis                102 non-null    float64\n",
      " 52  Number_of_Standalone_Pickleball                           102 non-null    float64\n",
      " 53  Number_of_Volleyball_nets                                 102 non-null    float64\n",
      " 54  Number_of_basketball_hoops_at_park_sites                  102 non-null    float64\n",
      " 55  Number_of_basketball_hoops_at_community_schoolyards       102 non-null    float64\n",
      " 56  Number_of_Beaches                                         102 non-null    float64\n",
      " 57  Number_of_Community_Garden_Sites                          102 non-null    float64\n",
      " 58  Number_of_Community_Garden_Plots                          102 non-null    float64\n",
      " 59  Number_of_Cooling_Centers                                 102 non-null    float64\n",
      " 60  Number_of_Dog_Parks                                       102 non-null    float64\n",
      " 61  Number_of_Drinking_fountains                              102 non-null    float64\n",
      " 62  Number_of_Playgrounds                                     102 non-null    float64\n",
      " 63  Number_of_Rec_Centers                                     102 non-null    float64\n",
      " 64  Number_of_senior_centers                                  102 non-null    float64\n",
      " 65  Number_of_Restrooms_Freestanding_permanent                102 non-null    float64\n",
      " 66  Number_of_Restrooms_In_park_buildings                     102 non-null    float64\n",
      " 67  Number_of_Restrooms_Semi_permanent                        102 non-null    float64\n",
      " 68  Number_of_Skate_parks                                     102 non-null    float64\n",
      " 69  Number_of_Splashpads                                      102 non-null    float64\n",
      " 70  Number_of_Swimming_pools                                  102 non-null    float64\n",
      " 71  Number_of_Disc_Golf_Courses                               102 non-null    float64\n",
      " 72  Trail_Miles_Improved_Trails                               102 non-null    float64\n",
      " 73  Trail_Miles_Nature_trails                                 102 non-null    float64\n",
      " 74  Number_of_Tracks_At_Park_Sites                            102 non-null    float64\n",
      " 75  Number_of_Tracks_At_community_schoolyards                 102 non-null    float64\n",
      " 76  Number_of_Exercise_Zones                                  102 non-null    float64\n",
      " 77  Miles_of_car_free_roadways_in_parks                       102 non-null    float64\n",
      " 78  Permanent_car_free_roadways                               102 non-null    float64\n",
      "dtypes: float64(72), int64(2), object(5)\n",
      "memory usage: 63.1+ KB\n"
     ]
    }
   ],
   "source": [
    "connectivity.info()"
   ]
  },
  {
   "cell_type": "markdown",
   "metadata": {},
   "source": [
    "### Let's view a statistical summary of the unaltered/uncleaned dataset. "
   ]
  },
  {
   "cell_type": "code",
   "execution_count": 29,
   "metadata": {},
   "outputs": [
    {
     "data": {
      "text/html": [
       "<div>\n",
       "<style scoped>\n",
       "    .dataframe tbody tr th:only-of-type {\n",
       "        vertical-align: middle;\n",
       "    }\n",
       "\n",
       "    .dataframe tbody tr th {\n",
       "        vertical-align: top;\n",
       "    }\n",
       "\n",
       "    .dataframe thead th {\n",
       "        text-align: right;\n",
       "    }\n",
       "</style>\n",
       "<table border=\"1\" class=\"dataframe\">\n",
       "  <thead>\n",
       "    <tr style=\"text-align: right;\">\n",
       "      <th></th>\n",
       "      <th>Unnamed: 0</th>\n",
       "      <th>Walk Score</th>\n",
       "      <th>Transit Score</th>\n",
       "      <th>Bike Score</th>\n",
       "      <th>Population_2021</th>\n",
       "      <th>Population_2022_Census</th>\n",
       "      <th>City_Population_Stats_adjusted_land_area__acres_</th>\n",
       "      <th>City_Population_Stats_density__people_acre_</th>\n",
       "      <th>City_Population_Stats_2000_population</th>\n",
       "      <th>City_Population_Stats_population_growth</th>\n",
       "      <th>...</th>\n",
       "      <th>Number_of_Splashpads</th>\n",
       "      <th>Number_of_Swimming_pools</th>\n",
       "      <th>Number_of_Disc_Golf_Courses</th>\n",
       "      <th>Trail_Miles_Improved_Trails</th>\n",
       "      <th>Trail_Miles_Nature_trails</th>\n",
       "      <th>Number_of_Tracks_At_Park_Sites</th>\n",
       "      <th>Number_of_Tracks_At_community_schoolyards</th>\n",
       "      <th>Number_of_Exercise_Zones</th>\n",
       "      <th>Miles_of_car_free_roadways_in_parks</th>\n",
       "      <th>Permanent_car_free_roadways</th>\n",
       "    </tr>\n",
       "  </thead>\n",
       "  <tbody>\n",
       "    <tr>\n",
       "      <th>count</th>\n",
       "      <td>102.000000</td>\n",
       "      <td>102.000000</td>\n",
       "      <td>97.000000</td>\n",
       "      <td>102.000000</td>\n",
       "      <td>1.020000e+02</td>\n",
       "      <td>1.020000e+02</td>\n",
       "      <td>1.020000e+02</td>\n",
       "      <td>102.000000</td>\n",
       "      <td>1.020000e+02</td>\n",
       "      <td>102.000000</td>\n",
       "      <td>...</td>\n",
       "      <td>102.000000</td>\n",
       "      <td>102.000000</td>\n",
       "      <td>102.000000</td>\n",
       "      <td>102.000000</td>\n",
       "      <td>102.00000</td>\n",
       "      <td>102.000000</td>\n",
       "      <td>102.000000</td>\n",
       "      <td>102.000000</td>\n",
       "      <td>102.000000</td>\n",
       "      <td>102.000000</td>\n",
       "    </tr>\n",
       "    <tr>\n",
       "      <th>mean</th>\n",
       "      <td>50.500000</td>\n",
       "      <td>48.532353</td>\n",
       "      <td>36.509278</td>\n",
       "      <td>52.540196</td>\n",
       "      <td>5.878480e+05</td>\n",
       "      <td>6.652513e+05</td>\n",
       "      <td>1.136763e+05</td>\n",
       "      <td>8.099661</td>\n",
       "      <td>5.664477e+05</td>\n",
       "      <td>0.258445</td>\n",
       "      <td>...</td>\n",
       "      <td>19.921569</td>\n",
       "      <td>13.774510</td>\n",
       "      <td>2.460784</td>\n",
       "      <td>113.827157</td>\n",
       "      <td>41.22951</td>\n",
       "      <td>16.323529</td>\n",
       "      <td>3.833333</td>\n",
       "      <td>17.431373</td>\n",
       "      <td>1.396373</td>\n",
       "      <td>0.855196</td>\n",
       "    </tr>\n",
       "    <tr>\n",
       "      <th>std</th>\n",
       "      <td>29.588849</td>\n",
       "      <td>15.809442</td>\n",
       "      <td>15.555372</td>\n",
       "      <td>11.480489</td>\n",
       "      <td>9.134761e+05</td>\n",
       "      <td>9.783562e+05</td>\n",
       "      <td>1.348374e+05</td>\n",
       "      <td>7.006259</td>\n",
       "      <td>9.000721e+05</td>\n",
       "      <td>0.295682</td>\n",
       "      <td>...</td>\n",
       "      <td>63.830637</td>\n",
       "      <td>14.759395</td>\n",
       "      <td>2.276316</td>\n",
       "      <td>190.375479</td>\n",
       "      <td>65.82189</td>\n",
       "      <td>28.554330</td>\n",
       "      <td>16.783469</td>\n",
       "      <td>36.680993</td>\n",
       "      <td>6.388701</td>\n",
       "      <td>5.224580</td>\n",
       "    </tr>\n",
       "    <tr>\n",
       "      <th>min</th>\n",
       "      <td>0.000000</td>\n",
       "      <td>21.300000</td>\n",
       "      <td>0.300000</td>\n",
       "      <td>29.700000</td>\n",
       "      <td>2.034330e+05</td>\n",
       "      <td>2.182060e+05</td>\n",
       "      <td>9.231000e+03</td>\n",
       "      <td>0.267104</td>\n",
       "      <td>1.099360e+05</td>\n",
       "      <td>-0.329924</td>\n",
       "      <td>...</td>\n",
       "      <td>0.000000</td>\n",
       "      <td>0.000000</td>\n",
       "      <td>0.000000</td>\n",
       "      <td>0.000000</td>\n",
       "      <td>0.00000</td>\n",
       "      <td>0.000000</td>\n",
       "      <td>0.000000</td>\n",
       "      <td>0.000000</td>\n",
       "      <td>0.000000</td>\n",
       "      <td>-0.010000</td>\n",
       "    </tr>\n",
       "    <tr>\n",
       "      <th>25%</th>\n",
       "      <td>25.250000</td>\n",
       "      <td>37.000000</td>\n",
       "      <td>25.500000</td>\n",
       "      <td>43.350000</td>\n",
       "      <td>2.430812e+05</td>\n",
       "      <td>2.907702e+05</td>\n",
       "      <td>4.162425e+04</td>\n",
       "      <td>4.138808</td>\n",
       "      <td>2.256842e+05</td>\n",
       "      <td>0.099644</td>\n",
       "      <td>...</td>\n",
       "      <td>3.000000</td>\n",
       "      <td>5.000000</td>\n",
       "      <td>1.000000</td>\n",
       "      <td>31.950000</td>\n",
       "      <td>0.00000</td>\n",
       "      <td>0.000000</td>\n",
       "      <td>0.000000</td>\n",
       "      <td>3.000000</td>\n",
       "      <td>0.000000</td>\n",
       "      <td>0.000000</td>\n",
       "    </tr>\n",
       "    <tr>\n",
       "      <th>50%</th>\n",
       "      <td>50.500000</td>\n",
       "      <td>43.450000</td>\n",
       "      <td>33.500000</td>\n",
       "      <td>52.000000</td>\n",
       "      <td>3.456560e+05</td>\n",
       "      <td>4.052475e+05</td>\n",
       "      <td>7.134000e+04</td>\n",
       "      <td>6.145840</td>\n",
       "      <td>3.544935e+05</td>\n",
       "      <td>0.235957</td>\n",
       "      <td>...</td>\n",
       "      <td>7.000000</td>\n",
       "      <td>9.000000</td>\n",
       "      <td>2.000000</td>\n",
       "      <td>67.840000</td>\n",
       "      <td>11.63000</td>\n",
       "      <td>3.500000</td>\n",
       "      <td>0.000000</td>\n",
       "      <td>6.000000</td>\n",
       "      <td>0.000000</td>\n",
       "      <td>0.000000</td>\n",
       "    </tr>\n",
       "    <tr>\n",
       "      <th>75%</th>\n",
       "      <td>75.750000</td>\n",
       "      <td>59.800000</td>\n",
       "      <td>43.900000</td>\n",
       "      <td>60.575000</td>\n",
       "      <td>5.967110e+05</td>\n",
       "      <td>6.496000e+05</td>\n",
       "      <td>1.240780e+05</td>\n",
       "      <td>8.618704</td>\n",
       "      <td>5.523642e+05</td>\n",
       "      <td>0.340922</td>\n",
       "      <td>...</td>\n",
       "      <td>15.750000</td>\n",
       "      <td>17.000000</td>\n",
       "      <td>3.000000</td>\n",
       "      <td>139.500000</td>\n",
       "      <td>53.00000</td>\n",
       "      <td>24.750000</td>\n",
       "      <td>1.000000</td>\n",
       "      <td>15.750000</td>\n",
       "      <td>0.000000</td>\n",
       "      <td>0.000000</td>\n",
       "    </tr>\n",
       "    <tr>\n",
       "      <th>max</th>\n",
       "      <td>101.000000</td>\n",
       "      <td>88.700000</td>\n",
       "      <td>88.600000</td>\n",
       "      <td>83.500000</td>\n",
       "      <td>8.175133e+06</td>\n",
       "      <td>8.840134e+06</td>\n",
       "      <td>1.087624e+06</td>\n",
       "      <td>47.481397</td>\n",
       "      <td>8.008278e+06</td>\n",
       "      <td>1.537031</td>\n",
       "      <td>...</td>\n",
       "      <td>595.000000</td>\n",
       "      <td>79.000000</td>\n",
       "      <td>14.000000</td>\n",
       "      <td>1649.050000</td>\n",
       "      <td>353.00000</td>\n",
       "      <td>141.000000</td>\n",
       "      <td>156.000000</td>\n",
       "      <td>280.000000</td>\n",
       "      <td>58.100000</td>\n",
       "      <td>51.200000</td>\n",
       "    </tr>\n",
       "  </tbody>\n",
       "</table>\n",
       "<p>8 rows × 74 columns</p>\n",
       "</div>"
      ],
      "text/plain": [
       "       Unnamed: 0  Walk Score  Transit Score  Bike Score  Population_2021  \\\n",
       "count  102.000000  102.000000      97.000000  102.000000     1.020000e+02   \n",
       "mean    50.500000   48.532353      36.509278   52.540196     5.878480e+05   \n",
       "std     29.588849   15.809442      15.555372   11.480489     9.134761e+05   \n",
       "min      0.000000   21.300000       0.300000   29.700000     2.034330e+05   \n",
       "25%     25.250000   37.000000      25.500000   43.350000     2.430812e+05   \n",
       "50%     50.500000   43.450000      33.500000   52.000000     3.456560e+05   \n",
       "75%     75.750000   59.800000      43.900000   60.575000     5.967110e+05   \n",
       "max    101.000000   88.700000      88.600000   83.500000     8.175133e+06   \n",
       "\n",
       "       Population_2022_Census  \\\n",
       "count            1.020000e+02   \n",
       "mean             6.652513e+05   \n",
       "std              9.783562e+05   \n",
       "min              2.182060e+05   \n",
       "25%              2.907702e+05   \n",
       "50%              4.052475e+05   \n",
       "75%              6.496000e+05   \n",
       "max              8.840134e+06   \n",
       "\n",
       "       City_Population_Stats_adjusted_land_area__acres_  \\\n",
       "count                                      1.020000e+02   \n",
       "mean                                       1.136763e+05   \n",
       "std                                        1.348374e+05   \n",
       "min                                        9.231000e+03   \n",
       "25%                                        4.162425e+04   \n",
       "50%                                        7.134000e+04   \n",
       "75%                                        1.240780e+05   \n",
       "max                                        1.087624e+06   \n",
       "\n",
       "       City_Population_Stats_density__people_acre_  \\\n",
       "count                                   102.000000   \n",
       "mean                                      8.099661   \n",
       "std                                       7.006259   \n",
       "min                                       0.267104   \n",
       "25%                                       4.138808   \n",
       "50%                                       6.145840   \n",
       "75%                                       8.618704   \n",
       "max                                      47.481397   \n",
       "\n",
       "       City_Population_Stats_2000_population  \\\n",
       "count                           1.020000e+02   \n",
       "mean                            5.664477e+05   \n",
       "std                             9.000721e+05   \n",
       "min                             1.099360e+05   \n",
       "25%                             2.256842e+05   \n",
       "50%                             3.544935e+05   \n",
       "75%                             5.523642e+05   \n",
       "max                             8.008278e+06   \n",
       "\n",
       "       City_Population_Stats_population_growth  ...  Number_of_Splashpads  \\\n",
       "count                               102.000000  ...            102.000000   \n",
       "mean                                  0.258445  ...             19.921569   \n",
       "std                                   0.295682  ...             63.830637   \n",
       "min                                  -0.329924  ...              0.000000   \n",
       "25%                                   0.099644  ...              3.000000   \n",
       "50%                                   0.235957  ...              7.000000   \n",
       "75%                                   0.340922  ...             15.750000   \n",
       "max                                   1.537031  ...            595.000000   \n",
       "\n",
       "       Number_of_Swimming_pools  Number_of_Disc_Golf_Courses  \\\n",
       "count                102.000000                   102.000000   \n",
       "mean                  13.774510                     2.460784   \n",
       "std                   14.759395                     2.276316   \n",
       "min                    0.000000                     0.000000   \n",
       "25%                    5.000000                     1.000000   \n",
       "50%                    9.000000                     2.000000   \n",
       "75%                   17.000000                     3.000000   \n",
       "max                   79.000000                    14.000000   \n",
       "\n",
       "       Trail_Miles_Improved_Trails  Trail_Miles_Nature_trails  \\\n",
       "count                   102.000000                  102.00000   \n",
       "mean                    113.827157                   41.22951   \n",
       "std                     190.375479                   65.82189   \n",
       "min                       0.000000                    0.00000   \n",
       "25%                      31.950000                    0.00000   \n",
       "50%                      67.840000                   11.63000   \n",
       "75%                     139.500000                   53.00000   \n",
       "max                    1649.050000                  353.00000   \n",
       "\n",
       "       Number_of_Tracks_At_Park_Sites  \\\n",
       "count                      102.000000   \n",
       "mean                        16.323529   \n",
       "std                         28.554330   \n",
       "min                          0.000000   \n",
       "25%                          0.000000   \n",
       "50%                          3.500000   \n",
       "75%                         24.750000   \n",
       "max                        141.000000   \n",
       "\n",
       "       Number_of_Tracks_At_community_schoolyards  Number_of_Exercise_Zones  \\\n",
       "count                                 102.000000                102.000000   \n",
       "mean                                    3.833333                 17.431373   \n",
       "std                                    16.783469                 36.680993   \n",
       "min                                     0.000000                  0.000000   \n",
       "25%                                     0.000000                  3.000000   \n",
       "50%                                     0.000000                  6.000000   \n",
       "75%                                     1.000000                 15.750000   \n",
       "max                                   156.000000                280.000000   \n",
       "\n",
       "       Miles_of_car_free_roadways_in_parks  Permanent_car_free_roadways  \n",
       "count                           102.000000                   102.000000  \n",
       "mean                              1.396373                     0.855196  \n",
       "std                               6.388701                     5.224580  \n",
       "min                               0.000000                    -0.010000  \n",
       "25%                               0.000000                     0.000000  \n",
       "50%                               0.000000                     0.000000  \n",
       "75%                               0.000000                     0.000000  \n",
       "max                              58.100000                    51.200000  \n",
       "\n",
       "[8 rows x 74 columns]"
      ]
     },
     "execution_count": 29,
     "metadata": {},
     "output_type": "execute_result"
    }
   ],
   "source": [
    "connectivity.describe()"
   ]
  },
  {
   "cell_type": "markdown",
   "metadata": {},
   "source": [
    "### Are there rows and columns with null values."
   ]
  },
  {
   "cell_type": "code",
   "execution_count": 30,
   "metadata": {},
   "outputs": [
    {
     "data": {
      "text/plain": [
       "Unnamed: 0                                   False\n",
       "Place_name                                   False\n",
       "City                                         False\n",
       "State                                        False\n",
       "Walk Score                                   False\n",
       "                                             ...  \n",
       "Number_of_Tracks_At_Park_Sites               False\n",
       "Number_of_Tracks_At_community_schoolyards    False\n",
       "Number_of_Exercise_Zones                     False\n",
       "Miles_of_car_free_roadways_in_parks          False\n",
       "Permanent_car_free_roadways                  False\n",
       "Length: 79, dtype: bool"
      ]
     },
     "execution_count": 30,
     "metadata": {},
     "output_type": "execute_result"
    }
   ],
   "source": [
    "connectivity.isnull().any(axis = 0)"
   ]
  },
  {
   "cell_type": "markdown",
   "metadata": {},
   "source": [
    "### The State column in this data set lists states by their abbreviation. Let's change this to have the full state name so that later when we are visualizing the data, the full state name is listed. "
   ]
  },
  {
   "cell_type": "code",
   "execution_count": 31,
   "metadata": {},
   "outputs": [],
   "source": [
    "abbreviation_to_full = {\n",
    "    \"AL\": \"Alabama\", \"AK\": \"Alaska\", \"AZ\": \"Arizona\", \"AR\": \"Arkansas\",\n",
    "    \"CA\": \"California\", \"CO\": \"Colorado\", \"CT\": \"Connecticut\", \"DE\": \"Delaware\",\n",
    "    \"FL\": \"Florida\", \"GA\": \"Georgia\", \"HI\": \"Hawaii\", \"ID\": \"Idaho\",\n",
    "    \"IL\": \"Illinois\", \"IN\": \"Indiana\", \"IA\": \"Iowa\", \"KS\": \"Kansas\",\n",
    "    \"KY\": \"Kentucky\", \"LA\": \"Louisiana\", \"ME\": \"Maine\", \"MD\": \"Maryland\",\n",
    "    \"MA\": \"Massachusetts\", \"MI\": \"Michigan\", \"MN\": \"Minnesota\", \"MS\": \"Mississippi\",\n",
    "    \"MO\": \"Missouri\", \"MT\": \"Montana\", \"NE\": \"Nebraska\", \"NV\": \"Nevada\",\n",
    "    \"NH\": \"New Hampshire\", \"NJ\": \"New Jersey\", \"NM\": \"New Mexico\", \"NY\": \"New York\",\n",
    "    \"NC\": \"North Carolina\", \"ND\": \"North Dakota\", \"OH\": \"Ohio\", \"OK\": \"Oklahoma\",\n",
    "    \"OR\": \"Oregon\", \"PA\": \"Pennsylvania\", \"RI\": \"Rhode Island\", \"SC\": \"South Carolina\",\n",
    "    \"SD\": \"South Dakota\", \"TN\": \"Tennessee\", \"TX\": \"Texas\", \"UT\": \"Utah\",\n",
    "    \"VT\": \"Vermont\", \"VA\": \"Virginia\", \"WA\": \"Washington\", \"WV\": \"West Virginia\",\n",
    "    \"WI\": \"Wisconsin\", \"WY\": \"Wyoming\"\n",
    "}\n",
    "\n"
   ]
  },
  {
   "cell_type": "code",
   "execution_count": 32,
   "metadata": {},
   "outputs": [
    {
     "name": "stdout",
     "output_type": "stream",
     "text": [
      "   Unnamed: 0         Place_name           City       State  Walk Score  \\\n",
      "0           0    Los Angeles, CA    Los Angeles  California        68.6   \n",
      "1           1      San Diego, CA      San Diego  California        53.3   \n",
      "2           2       San Jose, CA       San Jose  California        50.5   \n",
      "3           3  San Francisco, CA  San Francisco  California        88.7   \n",
      "4           4         Fresno, CA         Fresno  California        46.6   \n",
      "\n",
      "   Transit Score  Bike Score  Population_2021  Population_2022_Census  \\\n",
      "0           52.9        58.7          3792621               3903648.0   \n",
      "1           37.3        43.0          1307402               1394592.0   \n",
      "2           40.1        61.5           945942               1018924.0   \n",
      "3           77.1        72.3           805235                883822.0   \n",
      "4           33.1        58.1           494665                547499.0   \n",
      "\n",
      "   City_Population_Stats_adjusted_land_area__acres_  ...  \\\n",
      "0                                          296527.0  ...   \n",
      "1                                          206371.0  ...   \n",
      "2                                          112666.0  ...   \n",
      "3                                           29892.0  ...   \n",
      "4                                           72537.0  ...   \n",
      "\n",
      "   Number_of_Splashpads Number_of_Swimming_pools  Number_of_Disc_Golf_Courses  \\\n",
      "0                  17.0                     64.0                          4.0   \n",
      "1                   4.0                     14.0                          3.0   \n",
      "2                   2.0                      6.0                          1.0   \n",
      "3                  11.0                     12.0                          2.0   \n",
      "4                   7.0                      9.0                          1.0   \n",
      "\n",
      "   Trail_Miles_Improved_Trails Trail_Miles_Nature_trails  \\\n",
      "0                        33.00                      33.0   \n",
      "1                        66.20                     292.8   \n",
      "2                        75.60                      37.9   \n",
      "3                        51.35                      34.0   \n",
      "4                         2.00                       0.0   \n",
      "\n",
      "   Number_of_Tracks_At_Park_Sites  Number_of_Tracks_At_community_schoolyards  \\\n",
      "0                             1.0                                        0.0   \n",
      "1                             0.0                                       50.0   \n",
      "2                             0.0                                        0.0   \n",
      "3                             3.0                                        0.0   \n",
      "4                            10.0                                        0.0   \n",
      "\n",
      "   Number_of_Exercise_Zones  Miles_of_car_free_roadways_in_parks  \\\n",
      "0                     133.0                                  0.0   \n",
      "1                       8.0                                  0.0   \n",
      "2                      42.0                                  0.0   \n",
      "3                       5.0                                  7.0   \n",
      "4                      17.0                                  0.0   \n",
      "\n",
      "   Permanent_car_free_roadways  \n",
      "0                          0.0  \n",
      "1                          0.0  \n",
      "2                          0.0  \n",
      "3                          4.0  \n",
      "4                          0.0  \n",
      "\n",
      "[5 rows x 79 columns]\n"
     ]
    }
   ],
   "source": [
    "connectivity['State'] = connectivity[\"State\"].map(abbreviation_to_full)\n",
    "\n",
    "print(connectivity.head())"
   ]
  },
  {
   "cell_type": "markdown",
   "metadata": {},
   "source": [
    "### Here is a list of the columns in the dataset. "
   ]
  },
  {
   "cell_type": "code",
   "execution_count": 33,
   "metadata": {},
   "outputs": [
    {
     "data": {
      "text/plain": [
       "Index(['Unnamed: 0', 'Place_name', 'City', 'State', 'Walk Score',\n",
       "       'Transit Score', 'Bike Score', 'Population_2021',\n",
       "       'Population_2022_Census',\n",
       "       'City_Population_Stats_adjusted_land_area__acres_',\n",
       "       'City_Population_Stats_density__people_acre_',\n",
       "       'City_Population_Stats_density_classification',\n",
       "       'City_Population_Stats_2000_population',\n",
       "       'City_Population_Stats_population_growth',\n",
       "       'City_Population_Stats_population_growth_classification',\n",
       "       'Parkland_Stats_by_City_total_acres', 'Parkland_Stats_by_City__natural',\n",
       "       'Parkland_Stats_by_City__designed',\n",
       "       'Parkland_Stats_by_City_total_park_units',\n",
       "       'Parkland_Stats_by_City_parks_as__city_area',\n",
       "       'Walkable_Park_Access_all_residents', 'Walkable_Park_Access_black',\n",
       "       'Walkable_Park_Access_hispanic_latinx', 'Walkable_Park_Access_asian',\n",
       "       'Walkable_Park_Access_other_race',\n",
       "       'Walkable_Park_Access_multiple_races',\n",
       "       'Walkable_Park_Access_pacific_islander',\n",
       "       'Walkable_Park_Access_american_indian_alaska_native',\n",
       "       'Walkable_Park_Access_all_people_of_color',\n",
       "       'Walkable_Park_Access_white',\n",
       "       'Walkable_Park_Access_low__75_city_income_',\n",
       "       'Walkable_Park_Access_middle',\n",
       "       'Walkable_Park_Access_high__125_city_median_income_',\n",
       "       'Walkable_Park_Access_children__u19_',\n",
       "       'Walkable_Park_Access_adults__19_64_',\n",
       "       'Walkable_Park_Access_seniors__65_',\n",
       "       'Distribution_of_Park_Space_low_income',\n",
       "       'Distribution_of_Park_Space_high_income',\n",
       "       'Distribution_of_Park_Space_black',\n",
       "       'Distribution_of_Park_Space_hispanic_latnix',\n",
       "       'Distribution_of_Park_Space_asian',\n",
       "       'Distribution_of_Park_Space_other_race',\n",
       "       'Distribution_of_Park_Space_multiple_races',\n",
       "       'Distribution_of_Park_Space_pacific_islander',\n",
       "       'Distribution_of_Park_Space_american_indian_alaska_native',\n",
       "       'Distribution_of_Park_Space_white',\n",
       "       'Distribution_of_Park_Space_neighborhoods_of_color',\n",
       "       'Number_of_Fields_and_Diamonds', 'Number_of_Courts',\n",
       "       'Number_of_Tennis_courts', 'Number_of_Pickleball_courts',\n",
       "       'Number_of_Pickleball_courts_overlay_tennis',\n",
       "       'Number_of_Standalone_Pickleball', 'Number_of_Volleyball_nets',\n",
       "       'Number_of_basketball_hoops_at_park_sites',\n",
       "       'Number_of_basketball_hoops_at_community_schoolyards',\n",
       "       'Number_of_Beaches', 'Number_of_Community_Garden_Sites',\n",
       "       'Number_of_Community_Garden_Plots', 'Number_of_Cooling_Centers',\n",
       "       'Number_of_Dog_Parks', 'Number_of_Drinking_fountains',\n",
       "       'Number_of_Playgrounds', 'Number_of_Rec_Centers',\n",
       "       'Number_of_senior_centers',\n",
       "       'Number_of_Restrooms_Freestanding_permanent',\n",
       "       'Number_of_Restrooms_In_park_buildings',\n",
       "       'Number_of_Restrooms_Semi_permanent', 'Number_of_Skate_parks',\n",
       "       'Number_of_Splashpads', 'Number_of_Swimming_pools',\n",
       "       'Number_of_Disc_Golf_Courses', 'Trail_Miles_Improved_Trails',\n",
       "       'Trail_Miles_Nature_trails', 'Number_of_Tracks_At_Park_Sites',\n",
       "       'Number_of_Tracks_At_community_schoolyards', 'Number_of_Exercise_Zones',\n",
       "       'Miles_of_car_free_roadways_in_parks', 'Permanent_car_free_roadways'],\n",
       "      dtype='object')"
      ]
     },
     "execution_count": 33,
     "metadata": {},
     "output_type": "execute_result"
    }
   ],
   "source": [
    "connectivity.columns"
   ]
  },
  {
   "cell_type": "markdown",
   "metadata": {},
   "source": [
    "### Here is a list of the columns."
   ]
  },
  {
   "cell_type": "code",
   "execution_count": 34,
   "metadata": {},
   "outputs": [
    {
     "data": {
      "text/plain": [
       "['Unnamed: 0',\n",
       " 'Place_name',\n",
       " 'City',\n",
       " 'State',\n",
       " 'Walk Score',\n",
       " 'Transit Score',\n",
       " 'Bike Score',\n",
       " 'Population_2021',\n",
       " 'Population_2022_Census',\n",
       " 'City_Population_Stats_adjusted_land_area__acres_',\n",
       " 'City_Population_Stats_density__people_acre_',\n",
       " 'City_Population_Stats_density_classification',\n",
       " 'City_Population_Stats_2000_population',\n",
       " 'City_Population_Stats_population_growth',\n",
       " 'City_Population_Stats_population_growth_classification',\n",
       " 'Parkland_Stats_by_City_total_acres',\n",
       " 'Parkland_Stats_by_City__natural',\n",
       " 'Parkland_Stats_by_City__designed',\n",
       " 'Parkland_Stats_by_City_total_park_units',\n",
       " 'Parkland_Stats_by_City_parks_as__city_area',\n",
       " 'Walkable_Park_Access_all_residents',\n",
       " 'Walkable_Park_Access_black',\n",
       " 'Walkable_Park_Access_hispanic_latinx',\n",
       " 'Walkable_Park_Access_asian',\n",
       " 'Walkable_Park_Access_other_race',\n",
       " 'Walkable_Park_Access_multiple_races',\n",
       " 'Walkable_Park_Access_pacific_islander',\n",
       " 'Walkable_Park_Access_american_indian_alaska_native',\n",
       " 'Walkable_Park_Access_all_people_of_color',\n",
       " 'Walkable_Park_Access_white',\n",
       " 'Walkable_Park_Access_low__75_city_income_',\n",
       " 'Walkable_Park_Access_middle',\n",
       " 'Walkable_Park_Access_high__125_city_median_income_',\n",
       " 'Walkable_Park_Access_children__u19_',\n",
       " 'Walkable_Park_Access_adults__19_64_',\n",
       " 'Walkable_Park_Access_seniors__65_',\n",
       " 'Distribution_of_Park_Space_low_income',\n",
       " 'Distribution_of_Park_Space_high_income',\n",
       " 'Distribution_of_Park_Space_black',\n",
       " 'Distribution_of_Park_Space_hispanic_latnix',\n",
       " 'Distribution_of_Park_Space_asian',\n",
       " 'Distribution_of_Park_Space_other_race',\n",
       " 'Distribution_of_Park_Space_multiple_races',\n",
       " 'Distribution_of_Park_Space_pacific_islander',\n",
       " 'Distribution_of_Park_Space_american_indian_alaska_native',\n",
       " 'Distribution_of_Park_Space_white',\n",
       " 'Distribution_of_Park_Space_neighborhoods_of_color',\n",
       " 'Number_of_Fields_and_Diamonds',\n",
       " 'Number_of_Courts',\n",
       " 'Number_of_Tennis_courts',\n",
       " 'Number_of_Pickleball_courts',\n",
       " 'Number_of_Pickleball_courts_overlay_tennis',\n",
       " 'Number_of_Standalone_Pickleball',\n",
       " 'Number_of_Volleyball_nets',\n",
       " 'Number_of_basketball_hoops_at_park_sites',\n",
       " 'Number_of_basketball_hoops_at_community_schoolyards',\n",
       " 'Number_of_Beaches',\n",
       " 'Number_of_Community_Garden_Sites',\n",
       " 'Number_of_Community_Garden_Plots',\n",
       " 'Number_of_Cooling_Centers',\n",
       " 'Number_of_Dog_Parks',\n",
       " 'Number_of_Drinking_fountains',\n",
       " 'Number_of_Playgrounds',\n",
       " 'Number_of_Rec_Centers',\n",
       " 'Number_of_senior_centers',\n",
       " 'Number_of_Restrooms_Freestanding_permanent',\n",
       " 'Number_of_Restrooms_In_park_buildings',\n",
       " 'Number_of_Restrooms_Semi_permanent',\n",
       " 'Number_of_Skate_parks',\n",
       " 'Number_of_Splashpads',\n",
       " 'Number_of_Swimming_pools',\n",
       " 'Number_of_Disc_Golf_Courses',\n",
       " 'Trail_Miles_Improved_Trails',\n",
       " 'Trail_Miles_Nature_trails',\n",
       " 'Number_of_Tracks_At_Park_Sites',\n",
       " 'Number_of_Tracks_At_community_schoolyards',\n",
       " 'Number_of_Exercise_Zones',\n",
       " 'Miles_of_car_free_roadways_in_parks',\n",
       " 'Permanent_car_free_roadways']"
      ]
     },
     "execution_count": 34,
     "metadata": {},
     "output_type": "execute_result"
    }
   ],
   "source": [
    "list(connectivity.columns)"
   ]
  },
  {
   "cell_type": "markdown",
   "metadata": {},
   "source": [
    "### Let's drop some unneeded columns."
   ]
  },
  {
   "cell_type": "code",
   "execution_count": 35,
   "metadata": {},
   "outputs": [
    {
     "data": {
      "text/html": [
       "<div>\n",
       "<style scoped>\n",
       "    .dataframe tbody tr th:only-of-type {\n",
       "        vertical-align: middle;\n",
       "    }\n",
       "\n",
       "    .dataframe tbody tr th {\n",
       "        vertical-align: top;\n",
       "    }\n",
       "\n",
       "    .dataframe thead th {\n",
       "        text-align: right;\n",
       "    }\n",
       "</style>\n",
       "<table border=\"1\" class=\"dataframe\">\n",
       "  <thead>\n",
       "    <tr style=\"text-align: right;\">\n",
       "      <th></th>\n",
       "      <th>Unnamed: 0</th>\n",
       "      <th>City</th>\n",
       "      <th>State</th>\n",
       "      <th>Walk Score</th>\n",
       "      <th>Transit Score</th>\n",
       "      <th>Bike Score</th>\n",
       "      <th>City_Population_Stats_adjusted_land_area__acres_</th>\n",
       "      <th>City_Population_Stats_density__people_acre_</th>\n",
       "      <th>City_Population_Stats_density_classification</th>\n",
       "      <th>Parkland_Stats_by_City_total_acres</th>\n",
       "      <th>...</th>\n",
       "      <th>Number_of_Skate_parks</th>\n",
       "      <th>Number_of_Splashpads</th>\n",
       "      <th>Number_of_Swimming_pools</th>\n",
       "      <th>Number_of_Disc_Golf_Courses</th>\n",
       "      <th>Trail_Miles_Improved_Trails</th>\n",
       "      <th>Trail_Miles_Nature_trails</th>\n",
       "      <th>Number_of_Tracks_At_Park_Sites</th>\n",
       "      <th>Number_of_Tracks_At_community_schoolyards</th>\n",
       "      <th>Number_of_Exercise_Zones</th>\n",
       "      <th>Miles_of_car_free_roadways_in_parks</th>\n",
       "    </tr>\n",
       "  </thead>\n",
       "  <tbody>\n",
       "    <tr>\n",
       "      <th>0</th>\n",
       "      <td>0</td>\n",
       "      <td>Los Angeles</td>\n",
       "      <td>California</td>\n",
       "      <td>68.6</td>\n",
       "      <td>52.9</td>\n",
       "      <td>58.7</td>\n",
       "      <td>296527.0</td>\n",
       "      <td>13.164562</td>\n",
       "      <td>High</td>\n",
       "      <td>39626.19</td>\n",
       "      <td>...</td>\n",
       "      <td>31.0</td>\n",
       "      <td>17.0</td>\n",
       "      <td>64.0</td>\n",
       "      <td>4.0</td>\n",
       "      <td>33.00</td>\n",
       "      <td>33.0</td>\n",
       "      <td>1.0</td>\n",
       "      <td>0.0</td>\n",
       "      <td>133.0</td>\n",
       "      <td>0.0</td>\n",
       "    </tr>\n",
       "    <tr>\n",
       "      <th>1</th>\n",
       "      <td>1</td>\n",
       "      <td>San Diego</td>\n",
       "      <td>California</td>\n",
       "      <td>53.3</td>\n",
       "      <td>37.3</td>\n",
       "      <td>43.0</td>\n",
       "      <td>206371.0</td>\n",
       "      <td>6.757694</td>\n",
       "      <td>Medium-Low</td>\n",
       "      <td>40121.78</td>\n",
       "      <td>...</td>\n",
       "      <td>7.0</td>\n",
       "      <td>4.0</td>\n",
       "      <td>14.0</td>\n",
       "      <td>3.0</td>\n",
       "      <td>66.20</td>\n",
       "      <td>292.8</td>\n",
       "      <td>0.0</td>\n",
       "      <td>50.0</td>\n",
       "      <td>8.0</td>\n",
       "      <td>0.0</td>\n",
       "    </tr>\n",
       "    <tr>\n",
       "      <th>2</th>\n",
       "      <td>2</td>\n",
       "      <td>San Jose</td>\n",
       "      <td>California</td>\n",
       "      <td>50.5</td>\n",
       "      <td>40.1</td>\n",
       "      <td>61.5</td>\n",
       "      <td>112666.0</td>\n",
       "      <td>9.043758</td>\n",
       "      <td>Medium-High</td>\n",
       "      <td>15220.80</td>\n",
       "      <td>...</td>\n",
       "      <td>7.0</td>\n",
       "      <td>2.0</td>\n",
       "      <td>6.0</td>\n",
       "      <td>1.0</td>\n",
       "      <td>75.60</td>\n",
       "      <td>37.9</td>\n",
       "      <td>0.0</td>\n",
       "      <td>0.0</td>\n",
       "      <td>42.0</td>\n",
       "      <td>0.0</td>\n",
       "    </tr>\n",
       "    <tr>\n",
       "      <th>3</th>\n",
       "      <td>3</td>\n",
       "      <td>San Francisco</td>\n",
       "      <td>California</td>\n",
       "      <td>88.7</td>\n",
       "      <td>77.1</td>\n",
       "      <td>72.3</td>\n",
       "      <td>29892.0</td>\n",
       "      <td>29.567175</td>\n",
       "      <td>High</td>\n",
       "      <td>6163.80</td>\n",
       "      <td>...</td>\n",
       "      <td>7.0</td>\n",
       "      <td>11.0</td>\n",
       "      <td>12.0</td>\n",
       "      <td>2.0</td>\n",
       "      <td>51.35</td>\n",
       "      <td>34.0</td>\n",
       "      <td>3.0</td>\n",
       "      <td>0.0</td>\n",
       "      <td>5.0</td>\n",
       "      <td>7.0</td>\n",
       "    </tr>\n",
       "    <tr>\n",
       "      <th>4</th>\n",
       "      <td>4</td>\n",
       "      <td>Fresno</td>\n",
       "      <td>California</td>\n",
       "      <td>46.6</td>\n",
       "      <td>33.1</td>\n",
       "      <td>58.1</td>\n",
       "      <td>72537.0</td>\n",
       "      <td>7.547858</td>\n",
       "      <td>Medium-High</td>\n",
       "      <td>3429.00</td>\n",
       "      <td>...</td>\n",
       "      <td>9.0</td>\n",
       "      <td>7.0</td>\n",
       "      <td>9.0</td>\n",
       "      <td>1.0</td>\n",
       "      <td>2.00</td>\n",
       "      <td>0.0</td>\n",
       "      <td>10.0</td>\n",
       "      <td>0.0</td>\n",
       "      <td>17.0</td>\n",
       "      <td>0.0</td>\n",
       "    </tr>\n",
       "  </tbody>\n",
       "</table>\n",
       "<p>5 rows × 41 columns</p>\n",
       "</div>"
      ],
      "text/plain": [
       "   Unnamed: 0           City       State  Walk Score  Transit Score  \\\n",
       "0           0    Los Angeles  California        68.6           52.9   \n",
       "1           1      San Diego  California        53.3           37.3   \n",
       "2           2       San Jose  California        50.5           40.1   \n",
       "3           3  San Francisco  California        88.7           77.1   \n",
       "4           4         Fresno  California        46.6           33.1   \n",
       "\n",
       "   Bike Score  City_Population_Stats_adjusted_land_area__acres_  \\\n",
       "0        58.7                                          296527.0   \n",
       "1        43.0                                          206371.0   \n",
       "2        61.5                                          112666.0   \n",
       "3        72.3                                           29892.0   \n",
       "4        58.1                                           72537.0   \n",
       "\n",
       "   City_Population_Stats_density__people_acre_  \\\n",
       "0                                    13.164562   \n",
       "1                                     6.757694   \n",
       "2                                     9.043758   \n",
       "3                                    29.567175   \n",
       "4                                     7.547858   \n",
       "\n",
       "  City_Population_Stats_density_classification  \\\n",
       "0                                         High   \n",
       "1                                   Medium-Low   \n",
       "2                                  Medium-High   \n",
       "3                                         High   \n",
       "4                                  Medium-High   \n",
       "\n",
       "   Parkland_Stats_by_City_total_acres  ...  Number_of_Skate_parks  \\\n",
       "0                            39626.19  ...                   31.0   \n",
       "1                            40121.78  ...                    7.0   \n",
       "2                            15220.80  ...                    7.0   \n",
       "3                             6163.80  ...                    7.0   \n",
       "4                             3429.00  ...                    9.0   \n",
       "\n",
       "   Number_of_Splashpads  Number_of_Swimming_pools  \\\n",
       "0                  17.0                      64.0   \n",
       "1                   4.0                      14.0   \n",
       "2                   2.0                       6.0   \n",
       "3                  11.0                      12.0   \n",
       "4                   7.0                       9.0   \n",
       "\n",
       "   Number_of_Disc_Golf_Courses  Trail_Miles_Improved_Trails  \\\n",
       "0                          4.0                        33.00   \n",
       "1                          3.0                        66.20   \n",
       "2                          1.0                        75.60   \n",
       "3                          2.0                        51.35   \n",
       "4                          1.0                         2.00   \n",
       "\n",
       "   Trail_Miles_Nature_trails  Number_of_Tracks_At_Park_Sites  \\\n",
       "0                       33.0                             1.0   \n",
       "1                      292.8                             0.0   \n",
       "2                       37.9                             0.0   \n",
       "3                       34.0                             3.0   \n",
       "4                        0.0                            10.0   \n",
       "\n",
       "   Number_of_Tracks_At_community_schoolyards  Number_of_Exercise_Zones  \\\n",
       "0                                        0.0                     133.0   \n",
       "1                                       50.0                       8.0   \n",
       "2                                        0.0                      42.0   \n",
       "3                                        0.0                       5.0   \n",
       "4                                        0.0                      17.0   \n",
       "\n",
       "   Miles_of_car_free_roadways_in_parks  \n",
       "0                                  0.0  \n",
       "1                                  0.0  \n",
       "2                                  0.0  \n",
       "3                                  7.0  \n",
       "4                                  0.0  \n",
       "\n",
       "[5 rows x 41 columns]"
      ]
     },
     "execution_count": 35,
     "metadata": {},
     "output_type": "execute_result"
    }
   ],
   "source": [
    "connectivity = connectivity.drop(\n",
    "    [\n",
    "    'Place_name',\n",
    "    'Population_2021',\n",
    "    'Population_2022_Census',\n",
    "    'City_Population_Stats_2000_population',\n",
    "    'City_Population_Stats_population_growth',\n",
    "    'City_Population_Stats_population_growth_classification',\n",
    "    'Walkable_Park_Access_black',\n",
    "    'Walkable_Park_Access_hispanic_latinx',\n",
    "    'Walkable_Park_Access_asian',\n",
    "    'Walkable_Park_Access_other_race',\n",
    "    'Walkable_Park_Access_white',\n",
    "    'Walkable_Park_Access_adults__19_64_',\n",
    "    'Walkable_Park_Access_seniors__65_',\n",
    "    'Walkable_Park_Access_american_indian_alaska_native',\n",
    "    'Walkable_Park_Access_pacific_islander',\n",
    "    'Walkable_Park_Access_multiple_races',\n",
    "    'Walkable_Park_Access_all_people_of_color',\n",
    "    'Distribution_of_Park_Space_low_income',\n",
    "    'Distribution_of_Park_Space_high_income',\n",
    "    'Distribution_of_Park_Space_black',\n",
    "    'Distribution_of_Park_Space_pacific_islander',\n",
    "    'Distribution_of_Park_Space_hispanic_latnix',\n",
    "    'Distribution_of_Park_Space_asian',\n",
    "    'Distribution_of_Park_Space_other_race',\n",
    "    'Distribution_of_Park_Space_multiple_races',\n",
    "    'Distribution_of_Park_Space_american_indian_alaska_native',\n",
    "    'Distribution_of_Park_Space_white',\n",
    "    'Distribution_of_Park_Space_neighborhoods_of_color',\n",
    "    'Walkable_Park_Access_low__75_city_income_',\n",
    "    'Walkable_Park_Access_middle',\n",
    "    'Walkable_Park_Access_high__125_city_median_income_',\n",
    "    'Walkable_Park_Access_children__u19_',\n",
    "    'Number_of_Beaches', \n",
    "    'Number_of_Drinking_fountains',\n",
    "    'Number_of_Cooling_Centers',\n",
    "    'Permanent_car_free_roadways',\n",
    "    'Number_of_Restrooms_Semi_permanent',\n",
    "    'Number_of_Courts',\n",
    "    \n",
    "     ],\n",
    "    axis=1\n",
    ")\n",
    "\n",
    "connectivity.head()"
   ]
  },
  {
   "cell_type": "markdown",
   "metadata": {},
   "source": [
    "### Let's see if there are any duplicate rows for cities in the City column."
   ]
  },
  {
   "cell_type": "code",
   "execution_count": 36,
   "metadata": {},
   "outputs": [
    {
     "name": "stdout",
     "output_type": "stream",
     "text": [
      "    Unnamed: 0             City   State  Walk Score  Transit Score  \\\n",
      "87          87        Las Vegas  Nevada        42.0           35.5   \n",
      "91          91  North Las Vegas  Nevada        33.7           33.3   \n",
      "92          92  North Las Vegas  Nevada        33.7           33.3   \n",
      "\n",
      "    Bike Score  City_Population_Stats_adjusted_land_area__acres_  \\\n",
      "87        46.5                                           90785.0   \n",
      "91        48.5                                           90785.0   \n",
      "92        48.5                                           64896.0   \n",
      "\n",
      "    City_Population_Stats_density__people_acre_  \\\n",
      "87                                     7.155367   \n",
      "91                                     7.155367   \n",
      "92                                     4.256025   \n",
      "\n",
      "   City_Population_Stats_density_classification  \\\n",
      "87                                  Medium-High   \n",
      "91                                  Medium-High   \n",
      "92                                   Medium-Low   \n",
      "\n",
      "    Parkland_Stats_by_City_total_acres  ...  Number_of_Skate_parks  \\\n",
      "87                             16010.0  ...                   13.0   \n",
      "91                             16010.0  ...                   13.0   \n",
      "92                             16705.0  ...                    1.0   \n",
      "\n",
      "    Number_of_Splashpads  Number_of_Swimming_pools  \\\n",
      "87                  34.0                      17.0   \n",
      "91                  34.0                      17.0   \n",
      "92                   4.0                       3.0   \n",
      "\n",
      "    Number_of_Disc_Golf_Courses  Trail_Miles_Improved_Trails  \\\n",
      "87                          2.0                        150.0   \n",
      "91                          2.0                        150.0   \n",
      "92                          1.0                         13.0   \n",
      "\n",
      "    Trail_Miles_Nature_trails  Number_of_Tracks_At_Park_Sites  \\\n",
      "87                        0.0                             0.0   \n",
      "91                        0.0                             0.0   \n",
      "92                        0.0                            34.0   \n",
      "\n",
      "    Number_of_Tracks_At_community_schoolyards  Number_of_Exercise_Zones  \\\n",
      "87                                        0.0                       0.0   \n",
      "91                                        0.0                       0.0   \n",
      "92                                        0.0                       4.0   \n",
      "\n",
      "    Miles_of_car_free_roadways_in_parks  \n",
      "87                                  0.0  \n",
      "91                                  0.0  \n",
      "92                                  0.0  \n",
      "\n",
      "[3 rows x 41 columns]\n"
     ]
    }
   ],
   "source": [
    "duplicate_city = connectivity[connectivity.duplicated(subset=['City', 'State'])]\n",
    "\n",
    "print(duplicate_city)"
   ]
  },
  {
   "cell_type": "markdown",
   "metadata": {},
   "source": [
    "### Let's drop North Las Vegas from the data set as it appears the information is included in Las Vegas. We'll check to ensure the duplicates are dropped by using duplicated again. "
   ]
  },
  {
   "cell_type": "code",
   "execution_count": 37,
   "metadata": {},
   "outputs": [
    {
     "name": "stdout",
     "output_type": "stream",
     "text": [
      "    Unnamed: 0       City   State  Walk Score  Transit Score  Bike Score  \\\n",
      "87          87  Las Vegas  Nevada        42.0           35.5        46.5   \n",
      "\n",
      "    City_Population_Stats_adjusted_land_area__acres_  \\\n",
      "87                                           90785.0   \n",
      "\n",
      "    City_Population_Stats_density__people_acre_  \\\n",
      "87                                     7.155367   \n",
      "\n",
      "   City_Population_Stats_density_classification  \\\n",
      "87                                  Medium-High   \n",
      "\n",
      "    Parkland_Stats_by_City_total_acres  ...  Number_of_Skate_parks  \\\n",
      "87                             16010.0  ...                   13.0   \n",
      "\n",
      "    Number_of_Splashpads  Number_of_Swimming_pools  \\\n",
      "87                  34.0                      17.0   \n",
      "\n",
      "    Number_of_Disc_Golf_Courses  Trail_Miles_Improved_Trails  \\\n",
      "87                          2.0                        150.0   \n",
      "\n",
      "    Trail_Miles_Nature_trails  Number_of_Tracks_At_Park_Sites  \\\n",
      "87                        0.0                             0.0   \n",
      "\n",
      "    Number_of_Tracks_At_community_schoolyards  Number_of_Exercise_Zones  \\\n",
      "87                                        0.0                       0.0   \n",
      "\n",
      "    Miles_of_car_free_roadways_in_parks  \n",
      "87                                  0.0  \n",
      "\n",
      "[1 rows x 41 columns]\n"
     ]
    }
   ],
   "source": [
    "connectivity.drop([91, 92], inplace=True)\n",
    "\n",
    "duplicate_city_drop = connectivity[connectivity.duplicated(subset=['City', 'State'])]\n",
    "\n",
    "print(duplicate_city_drop)\n"
   ]
  },
  {
   "cell_type": "markdown",
   "metadata": {},
   "source": [
    "### Let's check again to ensure there are no duplicate cities. "
   ]
  },
  {
   "cell_type": "code",
   "execution_count": 38,
   "metadata": {},
   "outputs": [
    {
     "name": "stdout",
     "output_type": "stream",
     "text": [
      "    Unnamed: 0       City   State  Walk Score  Transit Score  Bike Score  \\\n",
      "87          87  Las Vegas  Nevada        42.0           35.5        46.5   \n",
      "\n",
      "    City_Population_Stats_adjusted_land_area__acres_  \\\n",
      "87                                           90785.0   \n",
      "\n",
      "    City_Population_Stats_density__people_acre_  \\\n",
      "87                                     7.155367   \n",
      "\n",
      "   City_Population_Stats_density_classification  \\\n",
      "87                                  Medium-High   \n",
      "\n",
      "    Parkland_Stats_by_City_total_acres  ...  Number_of_Skate_parks  \\\n",
      "87                             16010.0  ...                   13.0   \n",
      "\n",
      "    Number_of_Splashpads  Number_of_Swimming_pools  \\\n",
      "87                  34.0                      17.0   \n",
      "\n",
      "    Number_of_Disc_Golf_Courses  Trail_Miles_Improved_Trails  \\\n",
      "87                          2.0                        150.0   \n",
      "\n",
      "    Trail_Miles_Nature_trails  Number_of_Tracks_At_Park_Sites  \\\n",
      "87                        0.0                             0.0   \n",
      "\n",
      "    Number_of_Tracks_At_community_schoolyards  Number_of_Exercise_Zones  \\\n",
      "87                                        0.0                       0.0   \n",
      "\n",
      "    Miles_of_car_free_roadways_in_parks  \n",
      "87                                  0.0  \n",
      "\n",
      "[1 rows x 41 columns]\n"
     ]
    }
   ],
   "source": [
    "duplicate_city = connectivity[connectivity.duplicated(subset=['City', 'State'])]\n",
    "\n",
    "print(duplicate_city)"
   ]
  },
  {
   "cell_type": "markdown",
   "metadata": {},
   "source": [
    "### Let's print the duplicate entries for Las Vegas to see what differences exist in the columns. The informaiton is identical so we will drop one of the rows for Las Vegas. "
   ]
  },
  {
   "cell_type": "code",
   "execution_count": 39,
   "metadata": {},
   "outputs": [
    {
     "name": "stdout",
     "output_type": "stream",
     "text": [
      "    Unnamed: 0       City   State  Walk Score  Transit Score  Bike Score  \\\n",
      "86          86  Las Vegas  Nevada        42.0           35.5        46.5   \n",
      "87          87  Las Vegas  Nevada        42.0           35.5        46.5   \n",
      "\n",
      "    City_Population_Stats_adjusted_land_area__acres_  \\\n",
      "86                                           90785.0   \n",
      "87                                           90785.0   \n",
      "\n",
      "    City_Population_Stats_density__people_acre_  \\\n",
      "86                                     7.155367   \n",
      "87                                     7.155367   \n",
      "\n",
      "   City_Population_Stats_density_classification  \\\n",
      "86                                  Medium-High   \n",
      "87                                  Medium-High   \n",
      "\n",
      "    Parkland_Stats_by_City_total_acres  ...  Number_of_Skate_parks  \\\n",
      "86                             16010.0  ...                   13.0   \n",
      "87                             16010.0  ...                   13.0   \n",
      "\n",
      "    Number_of_Splashpads  Number_of_Swimming_pools  \\\n",
      "86                  34.0                      17.0   \n",
      "87                  34.0                      17.0   \n",
      "\n",
      "    Number_of_Disc_Golf_Courses  Trail_Miles_Improved_Trails  \\\n",
      "86                          2.0                        150.0   \n",
      "87                          2.0                        150.0   \n",
      "\n",
      "    Trail_Miles_Nature_trails  Number_of_Tracks_At_Park_Sites  \\\n",
      "86                        0.0                             0.0   \n",
      "87                        0.0                             0.0   \n",
      "\n",
      "    Number_of_Tracks_At_community_schoolyards  Number_of_Exercise_Zones  \\\n",
      "86                                        0.0                       0.0   \n",
      "87                                        0.0                       0.0   \n",
      "\n",
      "    Miles_of_car_free_roadways_in_parks  \n",
      "86                                  0.0  \n",
      "87                                  0.0  \n",
      "\n",
      "[2 rows x 41 columns]\n"
     ]
    }
   ],
   "source": [
    "las_vegas_duplicates = connectivity[connectivity[\"City\"] == \"Las Vegas\"]\n",
    "print(las_vegas_duplicates)\n"
   ]
  },
  {
   "cell_type": "code",
   "execution_count": 40,
   "metadata": {},
   "outputs": [
    {
     "name": "stdout",
     "output_type": "stream",
     "text": [
      "    Unnamed: 0       City   State  Walk Score  Transit Score  Bike Score  \\\n",
      "86          86  Las Vegas  Nevada        42.0           35.5        46.5   \n",
      "\n",
      "    City_Population_Stats_adjusted_land_area__acres_  \\\n",
      "86                                           90785.0   \n",
      "\n",
      "    City_Population_Stats_density__people_acre_  \\\n",
      "86                                     7.155367   \n",
      "\n",
      "   City_Population_Stats_density_classification  \\\n",
      "86                                  Medium-High   \n",
      "\n",
      "    Parkland_Stats_by_City_total_acres  ...  Number_of_Skate_parks  \\\n",
      "86                             16010.0  ...                   13.0   \n",
      "\n",
      "    Number_of_Splashpads  Number_of_Swimming_pools  \\\n",
      "86                  34.0                      17.0   \n",
      "\n",
      "    Number_of_Disc_Golf_Courses  Trail_Miles_Improved_Trails  \\\n",
      "86                          2.0                        150.0   \n",
      "\n",
      "    Trail_Miles_Nature_trails  Number_of_Tracks_At_Park_Sites  \\\n",
      "86                        0.0                             0.0   \n",
      "\n",
      "    Number_of_Tracks_At_community_schoolyards  Number_of_Exercise_Zones  \\\n",
      "86                                        0.0                       0.0   \n",
      "\n",
      "    Miles_of_car_free_roadways_in_parks  \n",
      "86                                  0.0  \n",
      "\n",
      "[1 rows x 41 columns]\n"
     ]
    }
   ],
   "source": [
    "connectivity.drop(index=87, inplace=True)\n",
    "\n",
    "print(connectivity[connectivity[\"City\"] == \"Las Vegas\"])"
   ]
  },
  {
   "cell_type": "markdown",
   "metadata": {},
   "source": [
    "### Here is the updated list of columns."
   ]
  },
  {
   "cell_type": "code",
   "execution_count": 41,
   "metadata": {},
   "outputs": [
    {
     "data": {
      "text/plain": [
       "['Unnamed: 0',\n",
       " 'City',\n",
       " 'State',\n",
       " 'Walk Score',\n",
       " 'Transit Score',\n",
       " 'Bike Score',\n",
       " 'City_Population_Stats_adjusted_land_area__acres_',\n",
       " 'City_Population_Stats_density__people_acre_',\n",
       " 'City_Population_Stats_density_classification',\n",
       " 'Parkland_Stats_by_City_total_acres',\n",
       " 'Parkland_Stats_by_City__natural',\n",
       " 'Parkland_Stats_by_City__designed',\n",
       " 'Parkland_Stats_by_City_total_park_units',\n",
       " 'Parkland_Stats_by_City_parks_as__city_area',\n",
       " 'Walkable_Park_Access_all_residents',\n",
       " 'Number_of_Fields_and_Diamonds',\n",
       " 'Number_of_Tennis_courts',\n",
       " 'Number_of_Pickleball_courts',\n",
       " 'Number_of_Pickleball_courts_overlay_tennis',\n",
       " 'Number_of_Standalone_Pickleball',\n",
       " 'Number_of_Volleyball_nets',\n",
       " 'Number_of_basketball_hoops_at_park_sites',\n",
       " 'Number_of_basketball_hoops_at_community_schoolyards',\n",
       " 'Number_of_Community_Garden_Sites',\n",
       " 'Number_of_Community_Garden_Plots',\n",
       " 'Number_of_Dog_Parks',\n",
       " 'Number_of_Playgrounds',\n",
       " 'Number_of_Rec_Centers',\n",
       " 'Number_of_senior_centers',\n",
       " 'Number_of_Restrooms_Freestanding_permanent',\n",
       " 'Number_of_Restrooms_In_park_buildings',\n",
       " 'Number_of_Skate_parks',\n",
       " 'Number_of_Splashpads',\n",
       " 'Number_of_Swimming_pools',\n",
       " 'Number_of_Disc_Golf_Courses',\n",
       " 'Trail_Miles_Improved_Trails',\n",
       " 'Trail_Miles_Nature_trails',\n",
       " 'Number_of_Tracks_At_Park_Sites',\n",
       " 'Number_of_Tracks_At_community_schoolyards',\n",
       " 'Number_of_Exercise_Zones',\n",
       " 'Miles_of_car_free_roadways_in_parks']"
      ]
     },
     "execution_count": 41,
     "metadata": {},
     "output_type": "execute_result"
    }
   ],
   "source": [
    "list(connectivity.columns)"
   ]
  },
  {
   "cell_type": "markdown",
   "metadata": {},
   "source": [
    "### Combine some of the columns for totals of certain amenities and then drop the columns that were combined."
   ]
  },
  {
   "cell_type": "code",
   "execution_count": 42,
   "metadata": {},
   "outputs": [],
   "source": [
    "connectivity['Tracks']=connectivity['Number_of_Tracks_At_Park_Sites']+connectivity['Number_of_Tracks_At_community_schoolyards']\n",
    "connectivity['Pickleball Courts']=connectivity['Number_of_Pickleball_courts']+connectivity['Number_of_Pickleball_courts_overlay_tennis']+connectivity['Number_of_Standalone_Pickleball']\n",
    "connectivity['Miles of Trails']=connectivity['Trail_Miles_Improved_Trails']+connectivity['Trail_Miles_Nature_trails']\n",
    "connectivity['Restrooms']=connectivity['Number_of_Restrooms_In_park_buildings']+connectivity['Number_of_Restrooms_Freestanding_permanent']\n",
    "connectivity['Basketball Hoops']=connectivity['Number_of_basketball_hoops_at_community_schoolyards']+connectivity['Number_of_basketball_hoops_at_park_sites']\n",
    "connectivity['Community Gardens']=connectivity['Number_of_Community_Garden_Sites']+connectivity['Number_of_Community_Garden_Plots']\n",
    "connectivity['Community Centers']=connectivity['Number_of_senior_centers']+connectivity['Number_of_Rec_Centers']\n",
    "\n",
    "\n",
    "connectivity = connectivity.drop(\n",
    "   [\n",
    "    'Number_of_Tracks_At_Park_Sites',\n",
    "    'Number_of_Tracks_At_community_schoolyards',\n",
    "    'Number_of_Pickleball_courts',\n",
    "    'Number_of_Pickleball_courts_overlay_tennis',\n",
    "    'Number_of_Standalone_Pickleball',\n",
    "    'Trail_Miles_Improved_Trails',\n",
    "    'Trail_Miles_Nature_trails',\n",
    "    'Number_of_Restrooms_In_park_buildings',\n",
    "    'Number_of_Restrooms_Freestanding_permanent',\n",
    "    'Number_of_basketball_hoops_at_community_schoolyards',\n",
    "    'Number_of_basketball_hoops_at_park_sites',\n",
    "    'Number_of_Community_Garden_Sites',\n",
    "    'Number_of_Community_Garden_Plots',\n",
    "    'Parkland_Stats_by_City__natural',\n",
    "    'Parkland_Stats_by_City__designed',\n",
    "    'Parkland_Stats_by_City_parks_as__city_area',\n",
    "    'Parkland_Stats_by_City_total_park_units',\n",
    "    'Number_of_Exercise_Zones',\n",
    "    'Number_of_Disc_Golf_Courses',\n",
    "    'Number_of_Splashpads',\n",
    "    'Number_of_Volleyball_nets',\n",
    "    'Number_of_senior_centers',\n",
    "    'Number_of_Rec_Centers',\n",
    "    'City_Population_Stats_adjusted_land_area__acres_',\n",
    "    'City_Population_Stats_density__people_acre_', \n",
    "    'City_Population_Stats_density_classification',\n",
    "    'Bike Score',\n",
    "    'Transit Score',\n",
    "    'Number_of_Fields_and_Diamonds',\n",
    "    'Miles_of_car_free_roadways_in_parks',\n",
    "    'Number_of_Dog_Parks',\n",
    "    'Number_of_Playgrounds',\n",
    "    'Number_of_Skate_parks',\n",
    "    'Walkable_Park_Access_all_residents',\n",
    "    'Unnamed: 0'\n",
    "   ],\n",
    "   axis=1\n",
    ")"
   ]
  },
  {
   "cell_type": "markdown",
   "metadata": {},
   "source": [
    "### Let's look at a revised list of the columns in the dataset. "
   ]
  },
  {
   "cell_type": "code",
   "execution_count": 43,
   "metadata": {},
   "outputs": [
    {
     "data": {
      "text/plain": [
       "['City',\n",
       " 'State',\n",
       " 'Walk Score',\n",
       " 'Parkland_Stats_by_City_total_acres',\n",
       " 'Number_of_Tennis_courts',\n",
       " 'Number_of_Swimming_pools',\n",
       " 'Tracks',\n",
       " 'Pickleball Courts',\n",
       " 'Miles of Trails',\n",
       " 'Restrooms',\n",
       " 'Basketball Hoops',\n",
       " 'Community Gardens',\n",
       " 'Community Centers']"
      ]
     },
     "execution_count": 43,
     "metadata": {},
     "output_type": "execute_result"
    }
   ],
   "source": [
    "list(connectivity.columns)"
   ]
  },
  {
   "cell_type": "markdown",
   "metadata": {},
   "source": [
    "### Let's check the data types again for the columns. "
   ]
  },
  {
   "cell_type": "code",
   "execution_count": 44,
   "metadata": {},
   "outputs": [
    {
     "name": "stdout",
     "output_type": "stream",
     "text": [
      "<class 'pandas.core.frame.DataFrame'>\n",
      "Index: 99 entries, 0 to 101\n",
      "Data columns (total 13 columns):\n",
      " #   Column                              Non-Null Count  Dtype  \n",
      "---  ------                              --------------  -----  \n",
      " 0   City                                99 non-null     object \n",
      " 1   State                               98 non-null     object \n",
      " 2   Walk Score                          99 non-null     float64\n",
      " 3   Parkland_Stats_by_City_total_acres  98 non-null     float64\n",
      " 4   Number_of_Tennis_courts             99 non-null     float64\n",
      " 5   Number_of_Swimming_pools            99 non-null     float64\n",
      " 6   Tracks                              99 non-null     float64\n",
      " 7   Pickleball Courts                   99 non-null     float64\n",
      " 8   Miles of Trails                     99 non-null     float64\n",
      " 9   Restrooms                           99 non-null     float64\n",
      " 10  Basketball Hoops                    99 non-null     float64\n",
      " 11  Community Gardens                   99 non-null     float64\n",
      " 12  Community Centers                   99 non-null     float64\n",
      "dtypes: float64(11), object(2)\n",
      "memory usage: 10.8+ KB\n"
     ]
    }
   ],
   "source": [
    "connectivity.info()"
   ]
  },
  {
   "cell_type": "markdown",
   "metadata": {},
   "source": [
    "### Let's use previous functions to change some of the data types from float64 to int64 so that it's easier to look at the data. Let's also change the data type of city and state to strings. "
   ]
  },
  {
   "cell_type": "code",
   "execution_count": 45,
   "metadata": {},
   "outputs": [],
   "source": [
    "convert_columns_to_int(connectivity, ['Number_of_Tennis_courts', 'Number_of_Swimming_pools', 'Tracks', 'Pickleball Courts', 'Miles of Trails', 'Restrooms', 'Basketball Hoops', 'Community Gardens', 'Community Centers'])\n"
   ]
  },
  {
   "cell_type": "code",
   "execution_count": 46,
   "metadata": {},
   "outputs": [],
   "source": [
    "convert_columns_to_string(connectivity, ['City', 'State'])"
   ]
  },
  {
   "cell_type": "code",
   "execution_count": 47,
   "metadata": {},
   "outputs": [
    {
     "name": "stdout",
     "output_type": "stream",
     "text": [
      "City                                  string[python]\n",
      "State                                 string[python]\n",
      "Walk Score                                   float64\n",
      "Parkland_Stats_by_City_total_acres           float64\n",
      "Number_of_Tennis_courts                        int64\n",
      "Number_of_Swimming_pools                       int64\n",
      "Tracks                                         int64\n",
      "Pickleball Courts                              int64\n",
      "Miles of Trails                                int64\n",
      "Restrooms                                      int64\n",
      "Basketball Hoops                               int64\n",
      "Community Gardens                              int64\n",
      "Community Centers                              int64\n",
      "dtype: object\n"
     ]
    }
   ],
   "source": [
    "print(connectivity.dtypes)"
   ]
  },
  {
   "cell_type": "markdown",
   "metadata": {},
   "source": [
    "### Let's check a few rows of the data set to ensure the data types are now without decimals for the columns we want. "
   ]
  },
  {
   "cell_type": "code",
   "execution_count": 48,
   "metadata": {},
   "outputs": [
    {
     "data": {
      "text/html": [
       "<div>\n",
       "<style scoped>\n",
       "    .dataframe tbody tr th:only-of-type {\n",
       "        vertical-align: middle;\n",
       "    }\n",
       "\n",
       "    .dataframe tbody tr th {\n",
       "        vertical-align: top;\n",
       "    }\n",
       "\n",
       "    .dataframe thead th {\n",
       "        text-align: right;\n",
       "    }\n",
       "</style>\n",
       "<table border=\"1\" class=\"dataframe\">\n",
       "  <thead>\n",
       "    <tr style=\"text-align: right;\">\n",
       "      <th></th>\n",
       "      <th>City</th>\n",
       "      <th>State</th>\n",
       "      <th>Walk Score</th>\n",
       "      <th>Parkland_Stats_by_City_total_acres</th>\n",
       "      <th>Number_of_Tennis_courts</th>\n",
       "      <th>Number_of_Swimming_pools</th>\n",
       "      <th>Tracks</th>\n",
       "      <th>Pickleball Courts</th>\n",
       "      <th>Miles of Trails</th>\n",
       "      <th>Restrooms</th>\n",
       "      <th>Basketball Hoops</th>\n",
       "      <th>Community Gardens</th>\n",
       "      <th>Community Centers</th>\n",
       "    </tr>\n",
       "  </thead>\n",
       "  <tbody>\n",
       "    <tr>\n",
       "      <th>0</th>\n",
       "      <td>Los Angeles</td>\n",
       "      <td>California</td>\n",
       "      <td>68.6</td>\n",
       "      <td>39626.19</td>\n",
       "      <td>340</td>\n",
       "      <td>64</td>\n",
       "      <td>1</td>\n",
       "      <td>64</td>\n",
       "      <td>66</td>\n",
       "      <td>559</td>\n",
       "      <td>1120</td>\n",
       "      <td>2180</td>\n",
       "      <td>159</td>\n",
       "    </tr>\n",
       "    <tr>\n",
       "      <th>1</th>\n",
       "      <td>San Diego</td>\n",
       "      <td>California</td>\n",
       "      <td>53.3</td>\n",
       "      <td>40121.78</td>\n",
       "      <td>143</td>\n",
       "      <td>14</td>\n",
       "      <td>50</td>\n",
       "      <td>202</td>\n",
       "      <td>359</td>\n",
       "      <td>190</td>\n",
       "      <td>617</td>\n",
       "      <td>4</td>\n",
       "      <td>75</td>\n",
       "    </tr>\n",
       "    <tr>\n",
       "      <th>2</th>\n",
       "      <td>San Jose</td>\n",
       "      <td>California</td>\n",
       "      <td>50.5</td>\n",
       "      <td>15220.80</td>\n",
       "      <td>85</td>\n",
       "      <td>6</td>\n",
       "      <td>0</td>\n",
       "      <td>70</td>\n",
       "      <td>113</td>\n",
       "      <td>117</td>\n",
       "      <td>157</td>\n",
       "      <td>1181</td>\n",
       "      <td>57</td>\n",
       "    </tr>\n",
       "    <tr>\n",
       "      <th>3</th>\n",
       "      <td>San Francisco</td>\n",
       "      <td>California</td>\n",
       "      <td>88.7</td>\n",
       "      <td>6163.80</td>\n",
       "      <td>167</td>\n",
       "      <td>12</td>\n",
       "      <td>3</td>\n",
       "      <td>122</td>\n",
       "      <td>85</td>\n",
       "      <td>286</td>\n",
       "      <td>388</td>\n",
       "      <td>1372</td>\n",
       "      <td>39</td>\n",
       "    </tr>\n",
       "    <tr>\n",
       "      <th>4</th>\n",
       "      <td>Fresno</td>\n",
       "      <td>California</td>\n",
       "      <td>46.6</td>\n",
       "      <td>3429.00</td>\n",
       "      <td>38</td>\n",
       "      <td>9</td>\n",
       "      <td>10</td>\n",
       "      <td>0</td>\n",
       "      <td>2</td>\n",
       "      <td>54</td>\n",
       "      <td>105</td>\n",
       "      <td>8</td>\n",
       "      <td>19</td>\n",
       "    </tr>\n",
       "  </tbody>\n",
       "</table>\n",
       "</div>"
      ],
      "text/plain": [
       "            City       State  Walk Score  Parkland_Stats_by_City_total_acres  \\\n",
       "0    Los Angeles  California        68.6                            39626.19   \n",
       "1      San Diego  California        53.3                            40121.78   \n",
       "2       San Jose  California        50.5                            15220.80   \n",
       "3  San Francisco  California        88.7                             6163.80   \n",
       "4         Fresno  California        46.6                             3429.00   \n",
       "\n",
       "   Number_of_Tennis_courts  Number_of_Swimming_pools  Tracks  \\\n",
       "0                      340                        64       1   \n",
       "1                      143                        14      50   \n",
       "2                       85                         6       0   \n",
       "3                      167                        12       3   \n",
       "4                       38                         9      10   \n",
       "\n",
       "   Pickleball Courts  Miles of Trails  Restrooms  Basketball Hoops  \\\n",
       "0                 64               66        559              1120   \n",
       "1                202              359        190               617   \n",
       "2                 70              113        117               157   \n",
       "3                122               85        286               388   \n",
       "4                  0                2         54               105   \n",
       "\n",
       "   Community Gardens  Community Centers  \n",
       "0               2180                159  \n",
       "1                  4                 75  \n",
       "2               1181                 57  \n",
       "3               1372                 39  \n",
       "4                  8                 19  "
      ]
     },
     "execution_count": 48,
     "metadata": {},
     "output_type": "execute_result"
    }
   ],
   "source": [
    "connectivity.head()"
   ]
  },
  {
   "cell_type": "markdown",
   "metadata": {},
   "source": [
    "### Let's rename some columns for readability."
   ]
  },
  {
   "cell_type": "code",
   "execution_count": 49,
   "metadata": {},
   "outputs": [
    {
     "data": {
      "text/plain": [
       "Index(['City', 'State', 'Walk Score', 'Park Acres', 'Tennis Courts',\n",
       "       'Swimming Pools', 'Tracks', 'Pickleball Courts', 'Miles of Trails',\n",
       "       'Restrooms', 'Basketball Hoops', 'Community Gardens',\n",
       "       'Community Centers'],\n",
       "      dtype='object')"
      ]
     },
     "execution_count": 49,
     "metadata": {},
     "output_type": "execute_result"
    }
   ],
   "source": [
    "connectivity.rename(columns={'Number_of_Tennis-courts' : 'Tennis Courts',\n",
    "                     'Number_of_Swimming_pools' : 'Swimming Pools',\n",
    "                     'Parkland_Stats_by_City_total_acres' : 'Park Acres',\n",
    "                     'Number_of_Tennis_courts' : 'Tennis Courts'\n",
    "                     },\n",
    "                     inplace = True)\n",
    "\n",
    "connectivity.columns"
   ]
  },
  {
   "cell_type": "markdown",
   "metadata": {},
   "source": [
    "### Let's see how many null values are present in Miles of Trails."
   ]
  },
  {
   "cell_type": "code",
   "execution_count": 50,
   "metadata": {},
   "outputs": [
    {
     "data": {
      "text/plain": [
       "City                 False\n",
       "State                 True\n",
       "Walk Score           False\n",
       "Park Acres            True\n",
       "Tennis Courts        False\n",
       "Swimming Pools       False\n",
       "Tracks               False\n",
       "Pickleball Courts    False\n",
       "Miles of Trails      False\n",
       "Restrooms            False\n",
       "Basketball Hoops     False\n",
       "Community Gardens    False\n",
       "Community Centers    False\n",
       "dtype: bool"
      ]
     },
     "execution_count": 50,
     "metadata": {},
     "output_type": "execute_result"
    }
   ],
   "source": [
    "connectivity.isnull().any(axis = 0)"
   ]
  },
  {
   "cell_type": "markdown",
   "metadata": {},
   "source": [
    "### Let's find and print the rows that have null values. "
   ]
  },
  {
   "cell_type": "code",
   "execution_count": 51,
   "metadata": {},
   "outputs": [
    {
     "name": "stdout",
     "output_type": "stream",
     "text": [
      "                City State  Walk Score  Park Acres  Tennis Courts  \\\n",
      "82        Des Moines  Iowa        45.0         NaN             56   \n",
      "101  Washington D.C.  <NA>        76.7     9296.21            206   \n",
      "\n",
      "     Swimming Pools  Tracks  Pickleball Courts  Miles of Trails  Restrooms  \\\n",
      "82                5      24                 90              226         56   \n",
      "101              33      28                116             1655        198   \n",
      "\n",
      "     Basketball Hoops  Community Gardens  Community Centers  \n",
      "82                 68                242                 17  \n",
      "101               509               2326                 72  \n"
     ]
    }
   ],
   "source": [
    "def extract_null_rows(connectivity):\n",
    "    return connectivity[connectivity.isnull().any(axis=1)]\n",
    "\n",
    "null_rows = extract_null_rows(connectivity)\n",
    "\n",
    "print(null_rows)\n",
    "\n"
   ]
  },
  {
   "cell_type": "markdown",
   "metadata": {},
   "source": [
    "### https://www.dsm.city/departments/parks_and_recreation-division/ website (as accessed on 3/11/25) for Des Moines, IA, indicates that there is over 4000 acres of land managed by Des Moines Parks and Recreation. Let's also replace the <NA> value in State for the city Washington D.C. with D.C. AFter this we will check again to see if there are any other null values. "
   ]
  },
  {
   "cell_type": "code",
   "execution_count": 52,
   "metadata": {},
   "outputs": [],
   "source": [
    "def fill_null_values(df, columns, fill_value):\n",
    "    for column in columns:\n",
    "        df[column] = df[column].fillna(fill_value)\n"
   ]
  },
  {
   "cell_type": "code",
   "execution_count": 53,
   "metadata": {},
   "outputs": [
    {
     "name": "stdout",
     "output_type": "stream",
     "text": [
      "Empty DataFrame\n",
      "Columns: [City, State, Walk Score, Park Acres, Tennis Courts, Swimming Pools, Tracks, Pickleball Courts, Miles of Trails, Restrooms, Basketball Hoops, Community Gardens, Community Centers]\n",
      "Index: []\n"
     ]
    }
   ],
   "source": [
    "fill_null_values(connectivity, ['Park Acres'], 4000)\n",
    "fill_null_values(connectivity, ['State'], \"D.C\")\n",
    "\n",
    "def extract_null_rows(connectivity):\n",
    "    return connectivity[connectivity.isnull().any(axis=1)]\n",
    "\n",
    "null_rows = extract_null_rows(connectivity)\n",
    "\n",
    "print(null_rows)"
   ]
  },
  {
   "cell_type": "markdown",
   "metadata": {},
   "source": [
    "# Let's change the null value in state column for the city of Washington D.C. with D. C. "
   ]
  },
  {
   "cell_type": "markdown",
   "metadata": {},
   "source": [
    "### Let's check to make sure that the Park Acres for Des Moines has been udpated to 4000 and that State for Washington D.C. has been updated to D.C."
   ]
  },
  {
   "cell_type": "code",
   "execution_count": 54,
   "metadata": {},
   "outputs": [
    {
     "name": "stdout",
     "output_type": "stream",
     "text": [
      "                City         State  Walk Score  Park Acres  Tennis Courts  \\\n",
      "82        Des Moines          Iowa        45.0     4000.00             56   \n",
      "83        Louisville      Kentucky        34.3    17922.00            147   \n",
      "84         Lexington      Kentucky        34.3     4447.40             53   \n",
      "85          Honolulu        Hawaii        65.7    64795.00            202   \n",
      "86         Las Vegas        Nevada        42.0    16010.00             59   \n",
      "88         Henderson        Nevada        30.0     5504.00             56   \n",
      "89              Reno        Nevada        40.2     3390.00             52   \n",
      "90   North Las Vegas        Nevada        33.7    16010.00             59   \n",
      "93      Philadelphia  Pennsylvania        74.8    10796.60            271   \n",
      "94        Pittsburgh  Pennsylvania        62.4     4975.00             69   \n",
      "95             Omaha      Nebraska        48.2    10336.00            185   \n",
      "96           Lincoln      Nebraska        44.1     3808.12             59   \n",
      "97           Wichita        Kansas        34.8     4327.00             70   \n",
      "98         Anchorage        Alaska        30.9   871794.80             34   \n",
      "99        Boise City         Idaho        38.5     4227.00             80   \n",
      "100      Albuquerque    New Mexico        42.6    22157.00            152   \n",
      "101  Washington D.C.           D.C        76.7     9296.21            206   \n",
      "\n",
      "     Swimming Pools  Tracks  Pickleball Courts  Miles of Trails  Restrooms  \\\n",
      "82                5      24                 90              226         56   \n",
      "83                5       4                 90              163        218   \n",
      "84                6      27                 30               87         44   \n",
      "85               21       0                346               15        241   \n",
      "86               17       0                 52              150        102   \n",
      "88               13      34                 62              308         81   \n",
      "89                4       0                 40               78         59   \n",
      "90               17       0                 52              150        102   \n",
      "93               72      28                 38              246        348   \n",
      "94               24      10                 30              207         88   \n",
      "95               18     129                142              740         57   \n",
      "96                9      54                102              182         26   \n",
      "97                6       8                 60              100         69   \n",
      "98                5       0                 20              135         45   \n",
      "99                7       0                 68               83         79   \n",
      "100              12       0                 48              160         73   \n",
      "101              33      28                116             1655        198   \n",
      "\n",
      "     Basketball Hoops  Community Gardens  Community Centers  \n",
      "82                 68                242                 17  \n",
      "83                174                569                 24  \n",
      "84                132                  8                 11  \n",
      "85                375               1240                 82  \n",
      "86               1031                131                 23  \n",
      "88                287                  1                  8  \n",
      "89                 95                 89                  4  \n",
      "90               1031                131                 23  \n",
      "93                766                810                243  \n",
      "94                226                222                 33  \n",
      "95                337                 54                 20  \n",
      "96                264                 71                 11  \n",
      "97                121                  2                  9  \n",
      "98                 57                247                  3  \n",
      "99                218                120                  7  \n",
      "100               280                  3                 31  \n",
      "101               509               2326                 72  \n"
     ]
    }
   ],
   "source": [
    "print(connectivity.iloc[82:102])"
   ]
  },
  {
   "cell_type": "markdown",
   "metadata": {},
   "source": [
    "# Part 3: Combining the two data sets."
   ]
  },
  {
   "cell_type": "markdown",
   "metadata": {},
   "source": [
    "### Let's merge the two data sets: us_cities and connectivity. An outer merge will be used so that all the rows are included. Of note, we are merging on the column City. We will use an inner join as the two data sets had unequal numbers of cities and we only want to see the data from the cities that are in both data sets. "
   ]
  },
  {
   "cell_type": "code",
   "execution_count": 55,
   "metadata": {},
   "outputs": [
    {
     "name": "stdout",
     "output_type": "stream",
     "text": [
      "              City       State  Population  Avg Income  Cost of Living  \\\n",
      "0         New York    New York    20140470       85136           128.0   \n",
      "1      Los Angeles  California    13200998       75821           140.6   \n",
      "2          Chicago    Illinois     9618502       71992           100.1   \n",
      "3           Dallas       Texas     7637387       66727            98.5   \n",
      "4          Houston       Texas     7122240       64837            95.8   \n",
      "..             ...         ...         ...         ...             ...   \n",
      "62  Corpus Christi       Texas      421933       52612            93.3   \n",
      "63       Anchorage      Alaska      398328       67085           110.7   \n",
      "64         Lincoln    Nebraska      340217       56887            94.7   \n",
      "65         Lubbock       Texas      321368       51045            88.8   \n",
      "66          Laredo       Texas      267114       40850            90.1   \n",
      "\n",
      "    Latitude  Longitude  Walk Score  Park Acres  Tennis Courts  \\\n",
      "0    40.6943   -73.9249        88.0    39796.00            665   \n",
      "1    34.1141  -118.4068        68.6    39626.19            340   \n",
      "2    41.8375   -87.6866        77.2    13866.00            501   \n",
      "3    32.7935   -96.7667        46.0    20835.00            256   \n",
      "4    29.7860   -95.3885        47.5    43485.71            205   \n",
      "..       ...        ...         ...         ...            ...   \n",
      "62   27.7254   -97.3767        40.3     7077.00             40   \n",
      "63   61.1508  -149.1091        30.9   871794.80             34   \n",
      "64   40.8099   -96.6784        44.1     3808.12             59   \n",
      "65   33.5657  -101.8879        39.0     2228.00             58   \n",
      "66   27.5625   -99.4874        36.8     2432.00             25   \n",
      "\n",
      "    Swimming Pools  Tracks  Pickleball Courts  Miles of Trails  Restrooms  \\\n",
      "0               66     109                 76              798        737   \n",
      "1               64       1                 64               66        559   \n",
      "2               79      32                 70              184        337   \n",
      "3               19     108                118              206         20   \n",
      "4               39     297                 34              204        192   \n",
      "..             ...     ...                ...              ...        ...   \n",
      "62               6       5                 26               18         42   \n",
      "63               5       0                 20              135         45   \n",
      "64               9      54                102              182         26   \n",
      "65               4       0                 12               16         34   \n",
      "66               9       0                  0               24         42   \n",
      "\n",
      "    Basketball Hoops  Community Gardens  Community Centers  \n",
      "0               4279               7765                190  \n",
      "1               1120               2180                159  \n",
      "2               1222                690                257  \n",
      "3                632                  1                 42  \n",
      "4                757                161                 79  \n",
      "..               ...                ...                ...  \n",
      "62                89                125                 12  \n",
      "63                57                247                  3  \n",
      "64               264                 71                 11  \n",
      "65               126                  0                  5  \n",
      "66               254                  6                 11  \n",
      "\n",
      "[67 rows x 18 columns]\n"
     ]
    }
   ],
   "source": [
    "combined_data = pd.merge(us_cities, connectivity, on=['City', 'State'], how='inner')\n",
    "\n",
    "print(combined_data)"
   ]
  },
  {
   "cell_type": "markdown",
   "metadata": {},
   "source": [
    "### Let's look at the list of columns in the combined_data dataset. "
   ]
  },
  {
   "cell_type": "code",
   "execution_count": 56,
   "metadata": {},
   "outputs": [
    {
     "data": {
      "text/plain": [
       "['City',\n",
       " 'State',\n",
       " 'Population',\n",
       " 'Avg Income',\n",
       " 'Cost of Living',\n",
       " 'Latitude',\n",
       " 'Longitude',\n",
       " 'Walk Score',\n",
       " 'Park Acres',\n",
       " 'Tennis Courts',\n",
       " 'Swimming Pools',\n",
       " 'Tracks',\n",
       " 'Pickleball Courts',\n",
       " 'Miles of Trails',\n",
       " 'Restrooms',\n",
       " 'Basketball Hoops',\n",
       " 'Community Gardens',\n",
       " 'Community Centers']"
      ]
     },
     "execution_count": 56,
     "metadata": {},
     "output_type": "execute_result"
    }
   ],
   "source": [
    "list(combined_data.columns)"
   ]
  },
  {
   "cell_type": "markdown",
   "metadata": {},
   "source": [
    "### There are two instances Columbus and Portland in the data set for different states. Let's update the City name to add the state abbreviations in parentheses so that when the data is cleaner when visualized. "
   ]
  },
  {
   "cell_type": "code",
   "execution_count": 57,
   "metadata": {},
   "outputs": [],
   "source": [
    "combined_data.loc[(combined_data[\"City\"] == \"Columbus\") & (combined_data[\"State\"] == \"OH\"), \"City\"] = \"Columbus (OH)\"\n",
    "combined_data.loc[(combined_data[\"City\"] == \"Columbus\") & (combined_data[\"State\"] == \"GA\"), \"City\"] = \"Columbus (GA)\"\n",
    "combined_data.loc[(combined_data[\"City\"] == \"Portland\") & (combined_data[\"State\"] == \"OR\"), \"City\"] = \"Portland (OR)\"\n",
    "combined_data.loc[(combined_data[\"City\"] == \"Portland\") & (combined_data[\"State\"] == \"ME\"), \"City\"] = \"Portland (ME)\"\n"
   ]
  },
  {
   "cell_type": "code",
   "execution_count": 58,
   "metadata": {},
   "outputs": [
    {
     "name": "stdout",
     "output_type": "stream",
     "text": [
      "Empty DataFrame\n",
      "Columns: [City, State, Population, Avg Income, Cost of Living, Latitude, Longitude, Walk Score, Park Acres, Tennis Courts, Swimming Pools, Tracks, Pickleball Courts, Miles of Trails, Restrooms, Basketball Hoops, Community Gardens, Community Centers]\n",
      "Index: []\n"
     ]
    }
   ],
   "source": [
    "duplicate_city = combined_data[combined_data.duplicated(subset=['City', 'State'])]\n",
    "\n",
    "print(duplicate_city)\n",
    "\n"
   ]
  },
  {
   "cell_type": "markdown",
   "metadata": {},
   "source": [
    "### Let's double check that there are no null values in the merged dataset. "
   ]
  },
  {
   "cell_type": "code",
   "execution_count": 59,
   "metadata": {},
   "outputs": [
    {
     "data": {
      "text/plain": [
       "City                 False\n",
       "State                False\n",
       "Population           False\n",
       "Avg Income           False\n",
       "Cost of Living       False\n",
       "Latitude             False\n",
       "Longitude            False\n",
       "Walk Score           False\n",
       "Park Acres           False\n",
       "Tennis Courts        False\n",
       "Swimming Pools       False\n",
       "Tracks               False\n",
       "Pickleball Courts    False\n",
       "Miles of Trails      False\n",
       "Restrooms            False\n",
       "Basketball Hoops     False\n",
       "Community Gardens    False\n",
       "Community Centers    False\n",
       "dtype: bool"
      ]
     },
     "execution_count": 59,
     "metadata": {},
     "output_type": "execute_result"
    }
   ],
   "source": [
    "combined_data.isnull().any(axis = 0)"
   ]
  },
  {
   "cell_type": "markdown",
   "metadata": {},
   "source": [
    "### Following the merge, there are now two State Columns. Let's drop one of them and rename the remaining State colum to just 'State'."
   ]
  },
  {
   "cell_type": "markdown",
   "metadata": {},
   "source": [
    "### Let's find out how many cities are in the merged data set that have populations under 250,000."
   ]
  },
  {
   "cell_type": "markdown",
   "metadata": {},
   "source": []
  },
  {
   "cell_type": "code",
   "execution_count": 60,
   "metadata": {},
   "outputs": [
    {
     "data": {
      "text/plain": [
       "<bound method DataFrame.count of Empty DataFrame\n",
       "Columns: [City, State, Population, Avg Income, Cost of Living, Latitude, Longitude, Walk Score, Park Acres, Tennis Courts, Swimming Pools, Tracks, Pickleball Courts, Miles of Trails, Restrooms, Basketball Hoops, Community Gardens, Community Centers]\n",
       "Index: []>"
      ]
     },
     "execution_count": 60,
     "metadata": {},
     "output_type": "execute_result"
    }
   ],
   "source": [
    "combined_data[combined_data['Population'] < 250000].count"
   ]
  },
  {
   "cell_type": "markdown",
   "metadata": {},
   "source": [
    "### Let's drop the cities that have populations below 250,000. We want to only look at data for cities with populations larger than this. "
   ]
  },
  {
   "cell_type": "code",
   "execution_count": 61,
   "metadata": {},
   "outputs": [
    {
     "name": "stdout",
     "output_type": "stream",
     "text": [
      "              City       State  Population  Avg Income  Cost of Living  \\\n",
      "0         New York    New York    20140470       85136           128.0   \n",
      "1      Los Angeles  California    13200998       75821           140.6   \n",
      "2          Chicago    Illinois     9618502       71992           100.1   \n",
      "3           Dallas       Texas     7637387       66727            98.5   \n",
      "4          Houston       Texas     7122240       64837            95.8   \n",
      "..             ...         ...         ...         ...             ...   \n",
      "62  Corpus Christi       Texas      421933       52612            93.3   \n",
      "63       Anchorage      Alaska      398328       67085           110.7   \n",
      "64         Lincoln    Nebraska      340217       56887            94.7   \n",
      "65         Lubbock       Texas      321368       51045            88.8   \n",
      "66          Laredo       Texas      267114       40850            90.1   \n",
      "\n",
      "    Latitude  Longitude  Walk Score  Park Acres  Tennis Courts  \\\n",
      "0    40.6943   -73.9249        88.0    39796.00            665   \n",
      "1    34.1141  -118.4068        68.6    39626.19            340   \n",
      "2    41.8375   -87.6866        77.2    13866.00            501   \n",
      "3    32.7935   -96.7667        46.0    20835.00            256   \n",
      "4    29.7860   -95.3885        47.5    43485.71            205   \n",
      "..       ...        ...         ...         ...            ...   \n",
      "62   27.7254   -97.3767        40.3     7077.00             40   \n",
      "63   61.1508  -149.1091        30.9   871794.80             34   \n",
      "64   40.8099   -96.6784        44.1     3808.12             59   \n",
      "65   33.5657  -101.8879        39.0     2228.00             58   \n",
      "66   27.5625   -99.4874        36.8     2432.00             25   \n",
      "\n",
      "    Swimming Pools  Tracks  Pickleball Courts  Miles of Trails  Restrooms  \\\n",
      "0               66     109                 76              798        737   \n",
      "1               64       1                 64               66        559   \n",
      "2               79      32                 70              184        337   \n",
      "3               19     108                118              206         20   \n",
      "4               39     297                 34              204        192   \n",
      "..             ...     ...                ...              ...        ...   \n",
      "62               6       5                 26               18         42   \n",
      "63               5       0                 20              135         45   \n",
      "64               9      54                102              182         26   \n",
      "65               4       0                 12               16         34   \n",
      "66               9       0                  0               24         42   \n",
      "\n",
      "    Basketball Hoops  Community Gardens  Community Centers  \n",
      "0               4279               7765                190  \n",
      "1               1120               2180                159  \n",
      "2               1222                690                257  \n",
      "3                632                  1                 42  \n",
      "4                757                161                 79  \n",
      "..               ...                ...                ...  \n",
      "62                89                125                 12  \n",
      "63                57                247                  3  \n",
      "64               264                 71                 11  \n",
      "65               126                  0                  5  \n",
      "66               254                  6                 11  \n",
      "\n",
      "[67 rows x 18 columns]\n"
     ]
    }
   ],
   "source": [
    "combined_data = combined_data[combined_data['Population'] > 250000]\n",
    "\n",
    "print(combined_data)"
   ]
  },
  {
   "cell_type": "markdown",
   "metadata": {},
   "source": [
    "### In order to create a ratio of cost of living to amenities for each city. Let's first sum the amenities found in each city. "
   ]
  },
  {
   "cell_type": "code",
   "execution_count": 62,
   "metadata": {},
   "outputs": [
    {
     "name": "stdout",
     "output_type": "stream",
     "text": [
      "              City  Total Amenities\n",
      "0         New York            13887\n",
      "1      Los Angeles             4487\n",
      "2          Chicago             3188\n",
      "3           Dallas             1196\n",
      "4          Houston             1764\n",
      "..             ...              ...\n",
      "62  Corpus Christi              345\n",
      "63       Anchorage              411\n",
      "64         Lincoln              596\n",
      "65         Lubbock              239\n",
      "66          Laredo              347\n",
      "\n",
      "[67 rows x 2 columns]\n"
     ]
    }
   ],
   "source": [
    "combined_data['Total Amenities'] = combined_data[['Tennis Courts', 'Swimming Pools', 'Tracks', 'Pickleball Courts', 'Restrooms', 'Basketball Hoops', 'Community Gardens', 'Community Centers']].sum(axis=1)\n",
    "\n",
    "print(combined_data[['City', 'Total Amenities']])"
   ]
  },
  {
   "cell_type": "markdown",
   "metadata": {},
   "source": [
    "### Now let's calculate the ratio of Cost of Living to Total Amenities to see which cities offer the most amenities for what is costs to live there. The higher the ratio the more each amenity costs, and vice versa."
   ]
  },
  {
   "cell_type": "code",
   "execution_count": 63,
   "metadata": {},
   "outputs": [
    {
     "name": "stdout",
     "output_type": "stream",
     "text": [
      "              City  Amenity Cost\n",
      "0         New York      0.009217\n",
      "1      Los Angeles      0.031335\n",
      "2          Chicago      0.031399\n",
      "3           Dallas      0.082358\n",
      "4          Houston      0.054308\n",
      "..             ...           ...\n",
      "62  Corpus Christi      0.270435\n",
      "63       Anchorage      0.269343\n",
      "64         Lincoln      0.158893\n",
      "65         Lubbock      0.371548\n",
      "66          Laredo      0.259654\n",
      "\n",
      "[67 rows x 2 columns]\n"
     ]
    }
   ],
   "source": [
    "combined_data['Amenity Cost'] = (combined_data['Cost of Living'] / combined_data['Total Amenities'])\n",
    "\n",
    "print(combined_data[['City', 'Amenity Cost']])"
   ]
  },
  {
   "cell_type": "markdown",
   "metadata": {},
   "source": [
    "### Let's look at how population relates to total number of amenities. We will calculate a ratio of population to total amenities. The higher the number the more amenities there are per person. To make the ratio more user friendly we will multiply it by 1000. The ratio will be number of amenities for each 1000 people. "
   ]
  },
  {
   "cell_type": "code",
   "execution_count": 64,
   "metadata": {},
   "outputs": [
    {
     "name": "stdout",
     "output_type": "stream",
     "text": [
      "              City  Amenities by Pop\n",
      "0         New York          0.689507\n",
      "1      Los Angeles          0.339899\n",
      "2          Chicago          0.331445\n",
      "3           Dallas          0.156598\n",
      "4          Houston          0.247675\n",
      "..             ...               ...\n",
      "62  Corpus Christi          0.817665\n",
      "63       Anchorage          1.031813\n",
      "64         Lincoln          1.751823\n",
      "65         Lubbock          0.743696\n",
      "66          Laredo          1.299071\n",
      "\n",
      "[67 rows x 2 columns]\n"
     ]
    }
   ],
   "source": [
    "combined_data['Amenities by Pop'] = (combined_data['Total Amenities'] / combined_data['Population'] *1000)\n",
    "print(combined_data[['City', 'Amenities by Pop']])"
   ]
  },
  {
   "cell_type": "markdown",
   "metadata": {},
   "source": []
  },
  {
   "cell_type": "code",
   "execution_count": 65,
   "metadata": {},
   "outputs": [
    {
     "name": "stdout",
     "output_type": "stream",
     "text": [
      "City                 string[python]\n",
      "State                string[python]\n",
      "Population                    int64\n",
      "Avg Income                    int64\n",
      "Cost of Living              float64\n",
      "Latitude                    float64\n",
      "Longitude                   float64\n",
      "Walk Score                  float64\n",
      "Park Acres                  float64\n",
      "Tennis Courts                 int64\n",
      "Swimming Pools                int64\n",
      "Tracks                        int64\n",
      "Pickleball Courts             int64\n",
      "Miles of Trails               int64\n",
      "Restrooms                     int64\n",
      "Basketball Hoops              int64\n",
      "Community Gardens             int64\n",
      "Community Centers             int64\n",
      "Total Amenities               int64\n",
      "Amenity Cost                float64\n",
      "Amenities by Pop            float64\n",
      "dtype: object\n"
     ]
    }
   ],
   "source": [
    "print(combined_data.dtypes)"
   ]
  },
  {
   "cell_type": "markdown",
   "metadata": {},
   "source": [
    "### Let's look at visualizations of the data. Let's first look at the walkability scores across US Cities. The higher the Walk Score the more walkable a city is. "
   ]
  },
  {
   "cell_type": "code",
   "execution_count": 111,
   "metadata": {},
   "outputs": [
    {
     "data": {
      "image/png": "[encoded data removed]",
      "text/plain": [
       "<Figure size 1600x800 with 1 Axes>"
      ]
     },
     "metadata": {},
     "output_type": "display_data"
    }
   ],
   "source": [
    "combined_data_sorted = combined_data.sort_values(by=\"Walk Score\", ascending=False)\n",
    "\n",
    "plt.figure(figsize=(16, 8))\n",
    "\n",
    "plt.bar(combined_data_sorted[\"City\"], combined_data_sorted[\"Walk Score\"], width=0.8, bottom=0,align='center', color='green')\n",
    "\n",
    "plt.xticks(rotation=90)\n",
    "\n",
    "plt.xlabel(\"City\")\n",
    "plt.ylabel(\"Walk Score\")\n",
    "plt.title(\"Walk Scores By City\")\n",
    "\n",
    "plt.show()\n"
   ]
  },
  {
   "cell_type": "markdown",
   "metadata": {},
   "source": [
    "### Let's look at a visualization of the ratio of amenities to population by city. The higher the ratio, the more amenities are available for each person."
   ]
  },
  {
   "cell_type": "code",
   "execution_count": 108,
   "metadata": {},
   "outputs": [
    {
     "data": {
      "image/png": "[encoded data removed]",
      "text/plain": [
       "<Figure size 1600x800 with 1 Axes>"
      ]
     },
     "metadata": {},
     "output_type": "display_data"
    }
   ],
   "source": [
    "combined_data_sorted = combined_data.sort_values(by=\"Amenities by Pop\", ascending=False)\n",
    "\n",
    "plt.figure(figsize=(16, 8))\n",
    "\n",
    "plt.bar(combined_data_sorted[\"City\"], combined_data_sorted[\"Amenities by Pop\"], width=0.8, bottom=0,align='center', color='orange')\n",
    "\n",
    "plt.xticks(rotation=90)\n",
    "\n",
    "plt.xlabel(\"City\")\n",
    "plt.ylabel(\"Amenities per 1000 People\")\n",
    "plt.title(\"Number of Amenities per 1000 People by City\")\n",
    "\n",
    "plt.show()"
   ]
  },
  {
   "cell_type": "markdown",
   "metadata": {},
   "source": [
    "### Let's look at a visualization of the ratio of cost of living to amenities by city. The higher the ratio the more each amenity costs, meaning that people are paying more for each amenity they have. Lower amenity cost means that the cost of living is spread across a larger number of amenities. "
   ]
  },
  {
   "cell_type": "code",
   "execution_count": 112,
   "metadata": {},
   "outputs": [
    {
     "data": {
      "image/png": "[encoded data removed]",
      "text/plain": [
       "<Figure size 1600x800 with 1 Axes>"
      ]
     },
     "metadata": {},
     "output_type": "display_data"
    }
   ],
   "source": [
    "combined_data_sorted = combined_data.sort_values(by=\"Amenity Cost\", ascending=False)\n",
    "\n",
    "plt.figure(figsize=(16, 8))\n",
    "\n",
    "plt.bar(combined_data_sorted[\"City\"], combined_data_sorted[\"Amenity Cost\"], width=0.8, bottom=0,align='center', color='red')\n",
    "\n",
    "plt.xticks(rotation=90)\n",
    "\n",
    "plt.xlabel(\"City\")\n",
    "plt.ylabel(\"Amenity Cost\")\n",
    "plt.title(\"Ratio of Amenity Cost by City\")\n",
    "\n",
    "plt.show()"
   ]
  },
  {
   "cell_type": "markdown",
   "metadata": {},
   "source": []
  }
 ],
 "metadata": {
  "kernelspec": {
   "display_name": "Python 3",
   "language": "python",
   "name": "python3"
  },
  "language_info": {
   "codemirror_mode": {
    "name": "ipython",
    "version": 3
   },
   "file_extension": ".py",
   "mimetype": "text/x-python",
   "name": "python",
   "nbconvert_exporter": "python",
   "pygments_lexer": "ipython3",
   "version": "3.11.9"
  }
 },
 "nbformat": 4,
 "nbformat_minor": 2
}
